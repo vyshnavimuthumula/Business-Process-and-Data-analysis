{
 "cells": [
  {
   "cell_type": "markdown",
   "metadata": {
    "id": "ouZzTmpGGlvO"
   },
   "source": [
    "# **Business Process and Data Analysis**\n",
    "\n",
    "# **Student ID : st20219772**\n",
    "\n",
    "# **Sales report for Nykaa online shopping system**"
   ]
  },
  {
   "cell_type": "markdown",
   "metadata": {
    "id": "6-1v_6XYDmyX"
   },
   "source": [
    "# **Introduction**"
   ]
  },
  {
   "cell_type": "markdown",
   "metadata": {
    "id": "j-UCgV9QDo0T"
   },
   "source": [
    "# **Problem Statement**"
   ]
  },
  {
   "cell_type": "markdown",
   "metadata": {
    "id": "4fsuAvO1iRWu"
   },
   "source": [
    "The purpose of the project is to analysis the sales report of the Nykaa over India with the help of exploratory data analysis (EDA). Nykaa is one of the biggest retail company in India which provides beauty and wellness products."
   ]
  },
  {
   "cell_type": "markdown",
   "metadata": {},
   "source": [
    "## Data source\n",
    "https://www.kaggle.com/datasets/susant4learning/nykaacosmeticsproductsreview2021?select=Nykaa_Product_Review.csv"
   ]
  },
  {
   "cell_type": "markdown",
   "metadata": {},
   "source": [
    "## Step 1: Importing libraries"
   ]
  },
  {
   "cell_type": "code",
   "execution_count": 1,
   "metadata": {
    "id": "dkbXCLcewaGa"
   },
   "outputs": [],
   "source": [
    "# Importing required libraries\n",
    "import pandas as pd\n",
    "import numpy as np\n",
    "import matplotlib.pyplot as plt\n",
    "from scipy import stats\n",
    "%matplotlib inline\n",
    "import seaborn as sns"
   ]
  },
  {
   "cell_type": "markdown",
   "metadata": {
    "id": "1kIn14UrKYsY"
   },
   "source": [
    "# Step 2 : Reading the data set and allocating it to the variable"
   ]
  },
  {
   "cell_type": "markdown",
   "metadata": {
    "id": "cBXWkxZ1L2A6"
   },
   "source": [
    "Whenever google colab is used the following two lines code should be uncommented."
   ]
  },
  {
   "cell_type": "code",
   "execution_count": 2,
   "metadata": {
    "colab": {
     "base_uri": "https://localhost:8080/"
    },
    "id": "bxrDaCcU2bgE",
    "outputId": "441a28a8-7ade-4d4d-c4fe-bce1d407d23a"
   },
   "outputs": [],
   "source": [
    "# Mounting Google drive to Google Colab\n",
    "\n",
    "#from google.colab import drive\n",
    "#drive.mount('/content/drive')"
   ]
  },
  {
   "cell_type": "code",
   "execution_count": 3,
   "metadata": {
    "colab": {
     "base_uri": "https://localhost:8080/"
    },
    "id": "NLderuAL2eEs",
    "outputId": "47e8e006-bba9-4154-9cbd-15d59fb1f12f"
   },
   "outputs": [],
   "source": [
    "# Moving to that particular directory\n",
    "#%cd \"/content/drive/My Drive/Colab\""
   ]
  },
  {
   "cell_type": "code",
   "execution_count": 4,
   "metadata": {
    "id": "-ogM8Yzmw0Kf"
   },
   "outputs": [],
   "source": [
    "# Reading the file\n",
    "nykaa_df = pd.read_csv('Nykaa_Product_Review.csv')"
   ]
  },
  {
   "cell_type": "markdown",
   "metadata": {
    "id": "gWFdxBnyKz-P"
   },
   "source": [
    "# Step 3 : Dataset description "
   ]
  },
  {
   "cell_type": "code",
   "execution_count": 5,
   "metadata": {
    "colab": {
     "base_uri": "https://localhost:8080/"
    },
    "id": "jrf_nSd3xeEp",
    "outputId": "8740ae01-19a1-4a7f-eb23-f0b1278285d5"
   },
   "outputs": [
    {
     "name": "stdout",
     "output_type": "stream",
     "text": [
      "                         Product Id Product Brand Code   Retailer  \\\n",
      "0  b77f3da33be6e65f6183da6ada8c07ca             BZ1000  nykaa.com   \n",
      "1  f54658c5d511195b6621a640fb743b1b             BH5931  nykaa.com   \n",
      "2  cdf6b3387f8976c8e38ad150173dbb6d             BH7276  nykaa.com   \n",
      "3  424755c11c78b2b24ff13c675baf5d19             BZ1000  nykaa.com   \n",
      "4  f7f76573099db0058ef5264c35d9d02e             BZ1000  nykaa.com   \n",
      "\n",
      "                                Product Category    Product Brand  \\\n",
      "0                        Makeup > Face > Contour      ETUDE HOUSE   \n",
      "1                          Brand > L'Oreal Paris    L'Oreal Paris   \n",
      "2                     Makeup > Face > Foundation    The Body Shop   \n",
      "3  Health & Wellness > Good for You > Super Food    True Elements   \n",
      "4                      Makeup > Lips > Lip Stain  Nykaa Cosmetics   \n",
      "\n",
      "                                        Product Name  Product Price  \\\n",
      "0                ETUDE HOUSE Face Color Shading - 02            600   \n",
      "1  L'Oreal Paris Glow Mon Amour Highlighting Drop...            454   \n",
      "2           The Body Shop All-In-One Face Base - 045           1395   \n",
      "3                  True Elements Sunflower Raw Seeds            175   \n",
      "4  Nykaa Wonderpuff Cushion Liquid Lipstick - Wer...            539   \n",
      "\n",
      "                                     Product Url Market  \\\n",
      "0  https://www.nykaa.com/c/p/760922?skuId=760920     IN   \n",
      "1  https://www.nykaa.com/c/p/565974?skuId=565973     IN   \n",
      "2    https://www.nykaa.com/c/p/31142?skuId=30050     IN   \n",
      "3  https://www.nykaa.com/c/p/370883?skuId=370881     IN   \n",
      "4  https://www.nykaa.com/c/p/555315?skuId=555310     IN   \n",
      "\n",
      "                                 Product Description Product Currency  \\\n",
      "0  Etude House Face Color Shading provides a shad...              INR   \n",
      "1  It's time to skip the snooze button and get up...              INR   \n",
      "2  Note: The Body Shop products will be dispatche...              INR   \n",
      "3  Sunflower has always been admired for its beau...              INR   \n",
      "4  It's no secret that a good lippie is a real mo...              INR   \n",
      "\n",
      "                                   Product Image Url  \\\n",
      "0  https://images-static.nykaa.com/media/catalog/...   \n",
      "1  https://images-static.nykaa.com/media/catalog/...   \n",
      "2  https://images-static.nykaa.com/media/catalog/...   \n",
      "3  https://images-static.nykaa.com/media/catalog/...   \n",
      "4  https://images-static.nykaa.com/media/catalog/...   \n",
      "\n",
      "                                        Product Tags  \\\n",
      "0  ETUDE HOUSE Face Color Shading - 02, Makeup, F...   \n",
      "1  L'Oreal Paris Glow Mon Amour Highlighting Drop...   \n",
      "2  The Body Shop All-In-One Face Base - 045 , Mak...   \n",
      "3  True Elements Sunflower Raw Seeds, Wellness, S...   \n",
      "4  NykaaÂ Wonderpuff!Â LipÂ &Â CheekÂ Cushion Lip...   \n",
      "\n",
      "                                    Product Contents  Product Rating  \\\n",
      "0                                                NaN             4.6   \n",
      "1  G927637, Cyclopentasiloxane, Dimethicone, Isod...             4.3   \n",
      "2                                                NaN             4.4   \n",
      "3                                Raw Sunflower Seeds             5.0   \n",
      "4                                                NaN             4.0   \n",
      "\n",
      "   Product Reviews Count  Expected Category Count  Expected Brand Count  \n",
      "0                    4.0                      153                    82  \n",
      "1                  147.0                      431                   431  \n",
      "2                   58.0                        0                     0  \n",
      "3                    0.0                      389                   149  \n",
      "4                  934.0                       80                   436  \n"
     ]
    }
   ],
   "source": [
    "# Printing first 5 rows by using head funtion\n",
    "print(nykaa_df.head())"
   ]
  },
  {
   "cell_type": "code",
   "execution_count": 6,
   "metadata": {
    "colab": {
     "base_uri": "https://localhost:8080/"
    },
    "id": "OYkGXuLIxjvO",
    "outputId": "377ce4b4-5710-4c0a-c014-bb1dfc585abd"
   },
   "outputs": [
    {
     "data": {
      "text/plain": [
       "Index(['Product Id', 'Product Brand Code', 'Retailer', 'Product Category',\n",
       "       'Product Brand', 'Product Name', 'Product Price', 'Product Url',\n",
       "       'Market', 'Product Description', 'Product Currency',\n",
       "       'Product Image Url', 'Product Tags', 'Product Contents',\n",
       "       'Product Rating', 'Product Reviews Count', 'Expected Category Count',\n",
       "       'Expected Brand Count'],\n",
       "      dtype='object')"
      ]
     },
     "execution_count": 6,
     "metadata": {},
     "output_type": "execute_result"
    }
   ],
   "source": [
    "# Printing columns\n",
    "nykaa_df.columns"
   ]
  },
  {
   "cell_type": "code",
   "execution_count": 7,
   "metadata": {
    "colab": {
     "base_uri": "https://localhost:8080/"
    },
    "id": "DKrgebu6xpO8",
    "outputId": "f905d7c6-e605-4047-8b01-233aba91110d"
   },
   "outputs": [
    {
     "data": {
      "text/plain": [
       "Product Id                  object\n",
       "Product Brand Code          object\n",
       "Retailer                    object\n",
       "Product Category            object\n",
       "Product Brand               object\n",
       "Product Name                object\n",
       "Product Price                int64\n",
       "Product Url                 object\n",
       "Market                      object\n",
       "Product Description         object\n",
       "Product Currency            object\n",
       "Product Image Url           object\n",
       "Product Tags                object\n",
       "Product Contents            object\n",
       "Product Rating             float64\n",
       "Product Reviews Count      float64\n",
       "Expected Category Count      int64\n",
       "Expected Brand Count         int64\n",
       "dtype: object"
      ]
     },
     "execution_count": 7,
     "metadata": {},
     "output_type": "execute_result"
    }
   ],
   "source": [
    "# Checking data types\n",
    "nykaa_df.dtypes"
   ]
  },
  {
   "cell_type": "markdown",
   "metadata": {
    "id": "RJtUtXaoLMrm"
   },
   "source": [
    "As per the results all the columns data types are either int or float or object."
   ]
  },
  {
   "cell_type": "markdown",
   "metadata": {
    "id": "Cd0144v9LdSB"
   },
   "source": [
    "**Checking for null values**"
   ]
  },
  {
   "cell_type": "code",
   "execution_count": 8,
   "metadata": {
    "colab": {
     "base_uri": "https://localhost:8080/"
    },
    "id": "Ke2a2pyVx15f",
    "outputId": "10097d4a-37a5-46f8-a071-b02ed781a408"
   },
   "outputs": [
    {
     "data": {
      "text/plain": [
       "Product Contents           301\n",
       "Product Category            81\n",
       "Product Reviews Count       59\n",
       "Product Rating              59\n",
       "Product Id                   0\n",
       "Product Currency             0\n",
       "Expected Category Count      0\n",
       "Product Tags                 0\n",
       "Product Image Url            0\n",
       "Product Description          0\n",
       "Product Brand Code           0\n",
       "Market                       0\n",
       "Product Url                  0\n",
       "Product Price                0\n",
       "Product Name                 0\n",
       "Product Brand                0\n",
       "Retailer                     0\n",
       "Expected Brand Count         0\n",
       "dtype: int64"
      ]
     },
     "execution_count": 8,
     "metadata": {},
     "output_type": "execute_result"
    }
   ],
   "source": [
    "# Checking null values in ascending order\n",
    "nykaa_df.isna().sum().sort_values(ascending=False)"
   ]
  },
  {
   "cell_type": "markdown",
   "metadata": {
    "id": "D68j8y4eLjsf"
   },
   "source": [
    "The output is saying that there are no null values present for this data set that means the data is cleaned."
   ]
  },
  {
   "cell_type": "code",
   "execution_count": 9,
   "metadata": {
    "colab": {
     "base_uri": "https://localhost:8080/",
     "height": 300
    },
    "id": "X5TiYfwCx6Wm",
    "outputId": "27573eac-468a-4c0e-cc2e-73f18d7217ea"
   },
   "outputs": [
    {
     "data": {
      "text/html": [
       "<div>\n",
       "<style scoped>\n",
       "    .dataframe tbody tr th:only-of-type {\n",
       "        vertical-align: middle;\n",
       "    }\n",
       "\n",
       "    .dataframe tbody tr th {\n",
       "        vertical-align: top;\n",
       "    }\n",
       "\n",
       "    .dataframe thead th {\n",
       "        text-align: right;\n",
       "    }\n",
       "</style>\n",
       "<table border=\"1\" class=\"dataframe\">\n",
       "  <thead>\n",
       "    <tr style=\"text-align: right;\">\n",
       "      <th></th>\n",
       "      <th>Product Price</th>\n",
       "      <th>Product Rating</th>\n",
       "      <th>Product Reviews Count</th>\n",
       "      <th>Expected Category Count</th>\n",
       "      <th>Expected Brand Count</th>\n",
       "    </tr>\n",
       "  </thead>\n",
       "  <tbody>\n",
       "    <tr>\n",
       "      <th>count</th>\n",
       "      <td>610.000000</td>\n",
       "      <td>551.000000</td>\n",
       "      <td>551.000000</td>\n",
       "      <td>610.000000</td>\n",
       "      <td>610.000000</td>\n",
       "    </tr>\n",
       "    <tr>\n",
       "      <th>mean</th>\n",
       "      <td>1019.014754</td>\n",
       "      <td>4.248457</td>\n",
       "      <td>364.891107</td>\n",
       "      <td>485.768852</td>\n",
       "      <td>121.144262</td>\n",
       "    </tr>\n",
       "    <tr>\n",
       "      <th>std</th>\n",
       "      <td>1352.519277</td>\n",
       "      <td>0.492113</td>\n",
       "      <td>1072.694529</td>\n",
       "      <td>667.910666</td>\n",
       "      <td>251.212381</td>\n",
       "    </tr>\n",
       "    <tr>\n",
       "      <th>min</th>\n",
       "      <td>25.000000</td>\n",
       "      <td>1.000000</td>\n",
       "      <td>0.000000</td>\n",
       "      <td>0.000000</td>\n",
       "      <td>0.000000</td>\n",
       "    </tr>\n",
       "    <tr>\n",
       "      <th>25%</th>\n",
       "      <td>180.000000</td>\n",
       "      <td>4.100000</td>\n",
       "      <td>3.000000</td>\n",
       "      <td>0.000000</td>\n",
       "      <td>0.000000</td>\n",
       "    </tr>\n",
       "    <tr>\n",
       "      <th>50%</th>\n",
       "      <td>447.000000</td>\n",
       "      <td>4.300000</td>\n",
       "      <td>22.000000</td>\n",
       "      <td>237.000000</td>\n",
       "      <td>0.000000</td>\n",
       "    </tr>\n",
       "    <tr>\n",
       "      <th>75%</th>\n",
       "      <td>1307.500000</td>\n",
       "      <td>4.500000</td>\n",
       "      <td>146.000000</td>\n",
       "      <td>725.750000</td>\n",
       "      <td>131.000000</td>\n",
       "    </tr>\n",
       "    <tr>\n",
       "      <th>max</th>\n",
       "      <td>9500.000000</td>\n",
       "      <td>5.000000</td>\n",
       "      <td>8513.000000</td>\n",
       "      <td>3484.000000</td>\n",
       "      <td>1530.000000</td>\n",
       "    </tr>\n",
       "  </tbody>\n",
       "</table>\n",
       "</div>"
      ],
      "text/plain": [
       "       Product Price  Product Rating  Product Reviews Count  \\\n",
       "count     610.000000      551.000000             551.000000   \n",
       "mean     1019.014754        4.248457             364.891107   \n",
       "std      1352.519277        0.492113            1072.694529   \n",
       "min        25.000000        1.000000               0.000000   \n",
       "25%       180.000000        4.100000               3.000000   \n",
       "50%       447.000000        4.300000              22.000000   \n",
       "75%      1307.500000        4.500000             146.000000   \n",
       "max      9500.000000        5.000000            8513.000000   \n",
       "\n",
       "       Expected Category Count  Expected Brand Count  \n",
       "count               610.000000            610.000000  \n",
       "mean                485.768852            121.144262  \n",
       "std                 667.910666            251.212381  \n",
       "min                   0.000000              0.000000  \n",
       "25%                   0.000000              0.000000  \n",
       "50%                 237.000000              0.000000  \n",
       "75%                 725.750000            131.000000  \n",
       "max                3484.000000           1530.000000  "
      ]
     },
     "execution_count": 9,
     "metadata": {},
     "output_type": "execute_result"
    }
   ],
   "source": [
    "# Finding descritive analysis for the data frame.\n",
    "nykaa_df.describe()"
   ]
  },
  {
   "cell_type": "markdown",
   "metadata": {
    "id": "-_w4A0uHL13D"
   },
   "source": [
    "The describe function is used to find the statistical values for the entire data set columns such as mean, count, standard deviation, minimum value, lower quartile, median, upper quartile and maximum value."
   ]
  },
  {
   "cell_type": "code",
   "execution_count": 10,
   "metadata": {
    "colab": {
     "base_uri": "https://localhost:8080/"
    },
    "id": "wJMryoxVx_sA",
    "outputId": "70dc017f-06e8-4375-c8b1-4b010d3149d7"
   },
   "outputs": [
    {
     "name": "stdout",
     "output_type": "stream",
     "text": [
      "<class 'pandas.core.frame.DataFrame'>\n",
      "RangeIndex: 610 entries, 0 to 609\n",
      "Data columns (total 18 columns):\n",
      " #   Column                   Non-Null Count  Dtype  \n",
      "---  ------                   --------------  -----  \n",
      " 0   Product Id               610 non-null    object \n",
      " 1   Product Brand Code       610 non-null    object \n",
      " 2   Retailer                 610 non-null    object \n",
      " 3   Product Category         529 non-null    object \n",
      " 4   Product Brand            610 non-null    object \n",
      " 5   Product Name             610 non-null    object \n",
      " 6   Product Price            610 non-null    int64  \n",
      " 7   Product Url              610 non-null    object \n",
      " 8   Market                   610 non-null    object \n",
      " 9   Product Description      610 non-null    object \n",
      " 10  Product Currency         610 non-null    object \n",
      " 11  Product Image Url        610 non-null    object \n",
      " 12  Product Tags             610 non-null    object \n",
      " 13  Product Contents         309 non-null    object \n",
      " 14  Product Rating           551 non-null    float64\n",
      " 15  Product Reviews Count    551 non-null    float64\n",
      " 16  Expected Category Count  610 non-null    int64  \n",
      " 17  Expected Brand Count     610 non-null    int64  \n",
      "dtypes: float64(2), int64(3), object(13)\n",
      "memory usage: 85.9+ KB\n"
     ]
    }
   ],
   "source": [
    "# Information about the data frame\n",
    "nykaa_df.info()"
   ]
  },
  {
   "cell_type": "markdown",
   "metadata": {
    "id": "D7dFD-vFX5SV"
   },
   "source": [
    "This data set contains 610 rows data."
   ]
  },
  {
   "cell_type": "code",
   "execution_count": 11,
   "metadata": {
    "colab": {
     "base_uri": "https://localhost:8080/",
     "height": 112
    },
    "id": "UhYH3Hj9fKNp",
    "outputId": "157b4495-5b2d-4e17-f370-2aa598f16140"
   },
   "outputs": [
    {
     "data": {
      "text/html": [
       "<div>\n",
       "<style scoped>\n",
       "    .dataframe tbody tr th:only-of-type {\n",
       "        vertical-align: middle;\n",
       "    }\n",
       "\n",
       "    .dataframe tbody tr th {\n",
       "        vertical-align: top;\n",
       "    }\n",
       "\n",
       "    .dataframe thead th {\n",
       "        text-align: right;\n",
       "    }\n",
       "</style>\n",
       "<table border=\"1\" class=\"dataframe\">\n",
       "  <thead>\n",
       "    <tr style=\"text-align: right;\">\n",
       "      <th></th>\n",
       "      <th>Product Price</th>\n",
       "      <th>Product Rating</th>\n",
       "      <th>Product Reviews Count</th>\n",
       "      <th>Expected Category Count</th>\n",
       "      <th>Expected Brand Count</th>\n",
       "    </tr>\n",
       "  </thead>\n",
       "  <tbody>\n",
       "    <tr>\n",
       "      <th>Product Price</th>\n",
       "      <td>1.000000</td>\n",
       "      <td>0.145329</td>\n",
       "      <td>-0.138843</td>\n",
       "      <td>-0.145586</td>\n",
       "      <td>0.131343</td>\n",
       "    </tr>\n",
       "    <tr>\n",
       "      <th>Product Rating</th>\n",
       "      <td>0.145329</td>\n",
       "      <td>1.000000</td>\n",
       "      <td>0.032917</td>\n",
       "      <td>-0.036507</td>\n",
       "      <td>0.026003</td>\n",
       "    </tr>\n",
       "    <tr>\n",
       "      <th>Product Reviews Count</th>\n",
       "      <td>-0.138843</td>\n",
       "      <td>0.032917</td>\n",
       "      <td>1.000000</td>\n",
       "      <td>-0.009625</td>\n",
       "      <td>0.024280</td>\n",
       "    </tr>\n",
       "    <tr>\n",
       "      <th>Expected Category Count</th>\n",
       "      <td>-0.145586</td>\n",
       "      <td>-0.036507</td>\n",
       "      <td>-0.009625</td>\n",
       "      <td>1.000000</td>\n",
       "      <td>0.122576</td>\n",
       "    </tr>\n",
       "    <tr>\n",
       "      <th>Expected Brand Count</th>\n",
       "      <td>0.131343</td>\n",
       "      <td>0.026003</td>\n",
       "      <td>0.024280</td>\n",
       "      <td>0.122576</td>\n",
       "      <td>1.000000</td>\n",
       "    </tr>\n",
       "  </tbody>\n",
       "</table>\n",
       "</div>"
      ],
      "text/plain": [
       "                         Product Price  Product Rating  Product Reviews Count  \\\n",
       "Product Price                 1.000000        0.145329              -0.138843   \n",
       "Product Rating                0.145329        1.000000               0.032917   \n",
       "Product Reviews Count        -0.138843        0.032917               1.000000   \n",
       "Expected Category Count      -0.145586       -0.036507              -0.009625   \n",
       "Expected Brand Count          0.131343        0.026003               0.024280   \n",
       "\n",
       "                         Expected Category Count  Expected Brand Count  \n",
       "Product Price                          -0.145586              0.131343  \n",
       "Product Rating                         -0.036507              0.026003  \n",
       "Product Reviews Count                  -0.009625              0.024280  \n",
       "Expected Category Count                 1.000000              0.122576  \n",
       "Expected Brand Count                    0.122576              1.000000  "
      ]
     },
     "execution_count": 11,
     "metadata": {},
     "output_type": "execute_result"
    }
   ],
   "source": [
    "# Correlation for all the columns by using corr funtion which is an inbuild funtion\n",
    "nykaa_df.corr()"
   ]
  },
  {
   "cell_type": "markdown",
   "metadata": {
    "id": "CapIB__RmCNF"
   },
   "source": [
    "# **Step 4 : Data Cleaning**"
   ]
  },
  {
   "cell_type": "markdown",
   "metadata": {
    "id": "wvKItIZPmWPa"
   },
   "source": [
    "The current data set has no null values and duplicates. So no need  to do any cleaning but for the assignment purpose researcher doing the cleaning. \n",
    "\n",
    "\n"
   ]
  },
  {
   "cell_type": "code",
   "execution_count": 12,
   "metadata": {
    "colab": {
     "base_uri": "https://localhost:8080/"
    },
    "id": "zfpUhf3amU74",
    "outputId": "6a63ed87-c4a2-4992-dc6f-c0b7b138a205"
   },
   "outputs": [
    {
     "data": {
      "text/plain": [
       "Product Id                   0\n",
       "Product Brand Code           0\n",
       "Retailer                     0\n",
       "Product Category            81\n",
       "Product Brand                0\n",
       "Product Name                 0\n",
       "Product Price                0\n",
       "Product Url                  0\n",
       "Market                       0\n",
       "Product Description          0\n",
       "Product Currency             0\n",
       "Product Image Url            0\n",
       "Product Tags                 0\n",
       "Product Contents           301\n",
       "Product Rating              59\n",
       "Product Reviews Count       59\n",
       "Expected Category Count      0\n",
       "Expected Brand Count         0\n",
       "dtype: int64"
      ]
     },
     "execution_count": 12,
     "metadata": {},
     "output_type": "execute_result"
    }
   ],
   "source": [
    "# Check for null values\n",
    "nykaa_df.isna().sum()"
   ]
  },
  {
   "cell_type": "code",
   "execution_count": 13,
   "metadata": {
    "colab": {
     "base_uri": "https://localhost:8080/",
     "height": 404
    },
    "id": "JeWSRL9doOha",
    "outputId": "46f2065a-d79e-482e-f04c-ab79f2479c69"
   },
   "outputs": [
    {
     "data": {
      "text/plain": [
       "<AxesSubplot:>"
      ]
     },
     "execution_count": 13,
     "metadata": {},
     "output_type": "execute_result"
    },
    {
     "data": {
      "image/png": "[encoded data removed]",
      "text/plain": [
       "<Figure size 432x288 with 2 Axes>"
      ]
     },
     "metadata": {
      "needs_background": "light"
     },
     "output_type": "display_data"
    }
   ],
   "source": [
    "# heatmap\n",
    "sns.heatmap(nykaa_df.isnull(),yticklabels=False,cbar=True,cmap='viridis')"
   ]
  },
  {
   "cell_type": "markdown",
   "metadata": {
    "id": "yjOoNeJRol5N"
   },
   "source": [
    "**Handling Missing / null / irregular information**"
   ]
  },
  {
   "cell_type": "markdown",
   "metadata": {
    "id": "AyBB0LcZoxIc"
   },
   "source": [
    "If there are null values from the set then for removing those we are using dropna function which deletes entire row which has Nan values."
   ]
  },
  {
   "cell_type": "code",
   "execution_count": 14,
   "metadata": {
    "id": "T4bxpZYieN3K"
   },
   "outputs": [],
   "source": [
    "# selecting some features for analysis\n",
    "nykaa_features = nykaa_df[['Product Brand', 'Product Category','Product Description', 'Product Price', 'Product Reviews Count', 'Product Rating']]"
   ]
  },
  {
   "cell_type": "code",
   "execution_count": 15,
   "metadata": {
    "colab": {
     "base_uri": "https://localhost:8080/"
    },
    "id": "UWnW07_CeYB6",
    "outputId": "0e2d376f-f0d5-46cb-f53f-4ba6b7901908"
   },
   "outputs": [
    {
     "data": {
      "text/plain": [
       "Product Brand             0\n",
       "Product Category         81\n",
       "Product Description       0\n",
       "Product Price             0\n",
       "Product Reviews Count    59\n",
       "Product Rating           59\n",
       "dtype: int64"
      ]
     },
     "execution_count": 15,
     "metadata": {},
     "output_type": "execute_result"
    }
   ],
   "source": [
    "# Checking for null values\n",
    "nykaa_features.isna().sum()"
   ]
  },
  {
   "cell_type": "code",
   "execution_count": 16,
   "metadata": {
    "colab": {
     "base_uri": "https://localhost:8080/"
    },
    "id": "bjLYzapdo4wc",
    "outputId": "ece73a20-4ba8-49a9-8834-14048424fe8d"
   },
   "outputs": [
    {
     "name": "stderr",
     "output_type": "stream",
     "text": [
      "C:\\Users\\USER\\AppData\\Local\\Temp\\ipykernel_9064\\1417115625.py:2: SettingWithCopyWarning: \n",
      "A value is trying to be set on a copy of a slice from a DataFrame\n",
      "\n",
      "See the caveats in the documentation: https://pandas.pydata.org/pandas-docs/stable/user_guide/indexing.html#returning-a-view-versus-a-copy\n",
      "  nykaa_features.dropna(inplace=True)\n"
     ]
    }
   ],
   "source": [
    "# Dropping the null values\n",
    "nykaa_features.dropna(inplace=True)"
   ]
  },
  {
   "cell_type": "markdown",
   "metadata": {
    "id": "Bk6-A0c6pBN2"
   },
   "source": [
    "After removing null values then check for Nan values again. "
   ]
  },
  {
   "cell_type": "code",
   "execution_count": 17,
   "metadata": {
    "colab": {
     "base_uri": "https://localhost:8080/"
    },
    "id": "ceXgYSlGejpm",
    "outputId": "ffd31531-e3f7-4349-c942-1a47c0d006a3"
   },
   "outputs": [
    {
     "data": {
      "text/plain": [
       "Product Brand            0\n",
       "Product Category         0\n",
       "Product Description      0\n",
       "Product Price            0\n",
       "Product Reviews Count    0\n",
       "Product Rating           0\n",
       "dtype: int64"
      ]
     },
     "execution_count": 17,
     "metadata": {},
     "output_type": "execute_result"
    }
   ],
   "source": [
    "# Checking for null values\n",
    "nykaa_features.isna().sum()"
   ]
  },
  {
   "cell_type": "code",
   "execution_count": 18,
   "metadata": {
    "colab": {
     "base_uri": "https://localhost:8080/",
     "height": 250
    },
    "id": "jaZuhXDIer9P",
    "outputId": "4ba9b295-9f5b-4861-c3bf-17f1b31eb37d"
   },
   "outputs": [
    {
     "data": {
      "text/html": [
       "<div>\n",
       "<style scoped>\n",
       "    .dataframe tbody tr th:only-of-type {\n",
       "        vertical-align: middle;\n",
       "    }\n",
       "\n",
       "    .dataframe tbody tr th {\n",
       "        vertical-align: top;\n",
       "    }\n",
       "\n",
       "    .dataframe thead th {\n",
       "        text-align: right;\n",
       "    }\n",
       "</style>\n",
       "<table border=\"1\" class=\"dataframe\">\n",
       "  <thead>\n",
       "    <tr style=\"text-align: right;\">\n",
       "      <th></th>\n",
       "      <th>Product Brand</th>\n",
       "      <th>Product Category</th>\n",
       "      <th>Product Description</th>\n",
       "      <th>Product Price</th>\n",
       "      <th>Product Reviews Count</th>\n",
       "      <th>Product Rating</th>\n",
       "    </tr>\n",
       "  </thead>\n",
       "  <tbody>\n",
       "    <tr>\n",
       "      <th>0</th>\n",
       "      <td>ETUDE HOUSE</td>\n",
       "      <td>Makeup &gt; Face &gt; Contour</td>\n",
       "      <td>Etude House Face Color Shading provides a shad...</td>\n",
       "      <td>600</td>\n",
       "      <td>4.0</td>\n",
       "      <td>4.6</td>\n",
       "    </tr>\n",
       "    <tr>\n",
       "      <th>1</th>\n",
       "      <td>L'Oreal Paris</td>\n",
       "      <td>Brand &gt; L'Oreal Paris</td>\n",
       "      <td>It's time to skip the snooze button and get up...</td>\n",
       "      <td>454</td>\n",
       "      <td>147.0</td>\n",
       "      <td>4.3</td>\n",
       "    </tr>\n",
       "    <tr>\n",
       "      <th>2</th>\n",
       "      <td>The Body Shop</td>\n",
       "      <td>Makeup &gt; Face &gt; Foundation</td>\n",
       "      <td>Note: The Body Shop products will be dispatche...</td>\n",
       "      <td>1395</td>\n",
       "      <td>58.0</td>\n",
       "      <td>4.4</td>\n",
       "    </tr>\n",
       "    <tr>\n",
       "      <th>3</th>\n",
       "      <td>True Elements</td>\n",
       "      <td>Health &amp; Wellness &gt; Good for You &gt; Super Food</td>\n",
       "      <td>Sunflower has always been admired for its beau...</td>\n",
       "      <td>175</td>\n",
       "      <td>0.0</td>\n",
       "      <td>5.0</td>\n",
       "    </tr>\n",
       "    <tr>\n",
       "      <th>4</th>\n",
       "      <td>Nykaa Cosmetics</td>\n",
       "      <td>Makeup &gt; Lips &gt; Lip Stain</td>\n",
       "      <td>It's no secret that a good lippie is a real mo...</td>\n",
       "      <td>539</td>\n",
       "      <td>934.0</td>\n",
       "      <td>4.0</td>\n",
       "    </tr>\n",
       "  </tbody>\n",
       "</table>\n",
       "</div>"
      ],
      "text/plain": [
       "     Product Brand                               Product Category  \\\n",
       "0      ETUDE HOUSE                        Makeup > Face > Contour   \n",
       "1    L'Oreal Paris                          Brand > L'Oreal Paris   \n",
       "2    The Body Shop                     Makeup > Face > Foundation   \n",
       "3    True Elements  Health & Wellness > Good for You > Super Food   \n",
       "4  Nykaa Cosmetics                      Makeup > Lips > Lip Stain   \n",
       "\n",
       "                                 Product Description  Product Price  \\\n",
       "0  Etude House Face Color Shading provides a shad...            600   \n",
       "1  It's time to skip the snooze button and get up...            454   \n",
       "2  Note: The Body Shop products will be dispatche...           1395   \n",
       "3  Sunflower has always been admired for its beau...            175   \n",
       "4  It's no secret that a good lippie is a real mo...            539   \n",
       "\n",
       "   Product Reviews Count  Product Rating  \n",
       "0                    4.0             4.6  \n",
       "1                  147.0             4.3  \n",
       "2                   58.0             4.4  \n",
       "3                    0.0             5.0  \n",
       "4                  934.0             4.0  "
      ]
     },
     "execution_count": 18,
     "metadata": {},
     "output_type": "execute_result"
    }
   ],
   "source": [
    "# Printing top 5 rows\n",
    "nykaa_features.head()"
   ]
  },
  {
   "cell_type": "code",
   "execution_count": 19,
   "metadata": {
    "colab": {
     "base_uri": "https://localhost:8080/",
     "height": 300
    },
    "id": "4cICoQSne1wd",
    "outputId": "8dc0268e-398d-48a4-e2c2-11922d420e80"
   },
   "outputs": [
    {
     "data": {
      "text/html": [
       "<div>\n",
       "<style scoped>\n",
       "    .dataframe tbody tr th:only-of-type {\n",
       "        vertical-align: middle;\n",
       "    }\n",
       "\n",
       "    .dataframe tbody tr th {\n",
       "        vertical-align: top;\n",
       "    }\n",
       "\n",
       "    .dataframe thead th {\n",
       "        text-align: right;\n",
       "    }\n",
       "</style>\n",
       "<table border=\"1\" class=\"dataframe\">\n",
       "  <thead>\n",
       "    <tr style=\"text-align: right;\">\n",
       "      <th></th>\n",
       "      <th>Product Price</th>\n",
       "      <th>Product Reviews Count</th>\n",
       "      <th>Product Rating</th>\n",
       "    </tr>\n",
       "  </thead>\n",
       "  <tbody>\n",
       "    <tr>\n",
       "      <th>count</th>\n",
       "      <td>486.000000</td>\n",
       "      <td>486.000000</td>\n",
       "      <td>486.000000</td>\n",
       "    </tr>\n",
       "    <tr>\n",
       "      <th>mean</th>\n",
       "      <td>882.557613</td>\n",
       "      <td>384.080247</td>\n",
       "      <td>4.245885</td>\n",
       "    </tr>\n",
       "    <tr>\n",
       "      <th>std</th>\n",
       "      <td>1237.607217</td>\n",
       "      <td>1089.010287</td>\n",
       "      <td>0.490375</td>\n",
       "    </tr>\n",
       "    <tr>\n",
       "      <th>min</th>\n",
       "      <td>25.000000</td>\n",
       "      <td>0.000000</td>\n",
       "      <td>1.000000</td>\n",
       "    </tr>\n",
       "    <tr>\n",
       "      <th>25%</th>\n",
       "      <td>171.250000</td>\n",
       "      <td>3.000000</td>\n",
       "      <td>4.000000</td>\n",
       "    </tr>\n",
       "    <tr>\n",
       "      <th>50%</th>\n",
       "      <td>360.500000</td>\n",
       "      <td>22.000000</td>\n",
       "      <td>4.300000</td>\n",
       "    </tr>\n",
       "    <tr>\n",
       "      <th>75%</th>\n",
       "      <td>957.500000</td>\n",
       "      <td>150.000000</td>\n",
       "      <td>4.500000</td>\n",
       "    </tr>\n",
       "    <tr>\n",
       "      <th>max</th>\n",
       "      <td>7900.000000</td>\n",
       "      <td>8513.000000</td>\n",
       "      <td>5.000000</td>\n",
       "    </tr>\n",
       "  </tbody>\n",
       "</table>\n",
       "</div>"
      ],
      "text/plain": [
       "       Product Price  Product Reviews Count  Product Rating\n",
       "count     486.000000             486.000000      486.000000\n",
       "mean      882.557613             384.080247        4.245885\n",
       "std      1237.607217            1089.010287        0.490375\n",
       "min        25.000000               0.000000        1.000000\n",
       "25%       171.250000               3.000000        4.000000\n",
       "50%       360.500000              22.000000        4.300000\n",
       "75%       957.500000             150.000000        4.500000\n",
       "max      7900.000000            8513.000000        5.000000"
      ]
     },
     "execution_count": 19,
     "metadata": {},
     "output_type": "execute_result"
    }
   ],
   "source": [
    "# Finding the details about data\n",
    "nykaa_features.describe()"
   ]
  },
  {
   "cell_type": "code",
   "execution_count": 20,
   "metadata": {
    "colab": {
     "base_uri": "https://localhost:8080/"
    },
    "id": "FfjSnCKPfvBy",
    "outputId": "b0f36cdf-5e4e-4b25-c368-95bc69c65556"
   },
   "outputs": [
    {
     "name": "stdout",
     "output_type": "stream",
     "text": [
      "<class 'pandas.core.frame.DataFrame'>\n",
      "Int64Index: 486 entries, 0 to 609\n",
      "Data columns (total 6 columns):\n",
      " #   Column                 Non-Null Count  Dtype  \n",
      "---  ------                 --------------  -----  \n",
      " 0   Product Brand          486 non-null    object \n",
      " 1   Product Category       486 non-null    object \n",
      " 2   Product Description    486 non-null    object \n",
      " 3   Product Price          486 non-null    int64  \n",
      " 4   Product Reviews Count  486 non-null    float64\n",
      " 5   Product Rating         486 non-null    float64\n",
      "dtypes: float64(2), int64(1), object(3)\n",
      "memory usage: 26.6+ KB\n"
     ]
    }
   ],
   "source": [
    "# info check for Nykaa\n",
    "nykaa_features.info()"
   ]
  },
  {
   "cell_type": "code",
   "execution_count": 21,
   "metadata": {
    "colab": {
     "base_uri": "https://localhost:8080/",
     "height": 363
    },
    "id": "rxVVuNGcfDED",
    "outputId": "142a1dc1-9539-45a7-bca4-1d97849cf98b"
   },
   "outputs": [
    {
     "name": "stderr",
     "output_type": "stream",
     "text": [
      "C:\\Users\\USER\\AppData\\Local\\Temp\\ipykernel_9064\\3426523896.py:3: SettingWithCopyWarning: \n",
      "A value is trying to be set on a copy of a slice from a DataFrame.\n",
      "Try using .loc[row_indexer,col_indexer] = value instead\n",
      "\n",
      "See the caveats in the documentation: https://pandas.pydata.org/pandas-docs/stable/user_guide/indexing.html#returning-a-view-versus-a-copy\n",
      "  nykaa_features['Product Price']= nykaa_features['Product Price'].astype('float64')\n",
      "C:\\Users\\USER\\AppData\\Local\\Temp\\ipykernel_9064\\3426523896.py:4: SettingWithCopyWarning: \n",
      "A value is trying to be set on a copy of a slice from a DataFrame.\n",
      "Try using .loc[row_indexer,col_indexer] = value instead\n",
      "\n",
      "See the caveats in the documentation: https://pandas.pydata.org/pandas-docs/stable/user_guide/indexing.html#returning-a-view-versus-a-copy\n",
      "  nykaa_features['Product Rating']= nykaa_features['Product Rating'].astype('float64')\n"
     ]
    }
   ],
   "source": [
    "# Convert the Product Price, Reviews count and Rating in float\n",
    "nykaa_features.astype({'Product Price':'float64','Product Rating':'float64'})\n",
    "nykaa_features['Product Price']= nykaa_features['Product Price'].astype('float64')\n",
    "nykaa_features['Product Rating']= nykaa_features['Product Rating'].astype('float64')"
   ]
  },
  {
   "cell_type": "markdown",
   "metadata": {},
   "source": [
    "For parameter consistency all the columns should be in same data type"
   ]
  },
  {
   "cell_type": "markdown",
   "metadata": {},
   "source": [
    "# <b> Business Insights and Observations </b>"
   ]
  },
  {
   "cell_type": "markdown",
   "metadata": {
    "id": "bEjRtXy1ykiQ"
   },
   "source": [
    "## Step 5 : Visualizations"
   ]
  },
  {
   "cell_type": "markdown",
   "metadata": {
    "id": "FHuZe3z_O68N"
   },
   "source": [
    "Visualizations are the pictorical representation of the data which can be easily understand by end user without any difficulties."
   ]
  },
  {
   "cell_type": "code",
   "execution_count": 22,
   "metadata": {
    "colab": {
     "base_uri": "https://localhost:8080/",
     "height": 316
    },
    "id": "eDHpEBWeG6mT",
    "outputId": "d5f5d047-4590-4c3e-d672-f17f3573d97a"
   },
   "outputs": [
    {
     "data": {
      "text/plain": [
       "<AxesSubplot:xlabel='Product Rating', ylabel='Product Price'>"
      ]
     },
     "execution_count": 22,
     "metadata": {},
     "output_type": "execute_result"
    },
    {
     "data": {
      "image/png": "[encoded data removed]",
      "text/plain": [
       "<Figure size 432x288 with 1 Axes>"
      ]
     },
     "metadata": {
      "needs_background": "light"
     },
     "output_type": "display_data"
    }
   ],
   "source": [
    "# Comparing Product Rating and Product Price\n",
    "sns.scatterplot(x='Product Rating', y='Product Price', data = nykaa_features)"
   ]
  },
  {
   "cell_type": "markdown",
   "metadata": {},
   "source": [
    "As per the results the highest price products are less rated compared to the lowest  products. Customers are purchasing products which are low price and they are satisfied with the product quality as they high rating."
   ]
  },
  {
   "cell_type": "code",
   "execution_count": 23,
   "metadata": {
    "colab": {
     "base_uri": "https://localhost:8080/",
     "height": 282
    },
    "id": "INP2kCuUYY8p",
    "outputId": "27097442-ee22-4d6c-d71b-528628cdf149"
   },
   "outputs": [
    {
     "data": {
      "text/plain": [
       "<AxesSubplot:>"
      ]
     },
     "execution_count": 23,
     "metadata": {},
     "output_type": "execute_result"
    },
    {
     "data": {
      "image/png": "[encoded data removed]",
      "text/plain": [
       "<Figure size 432x288 with 1 Axes>"
      ]
     },
     "metadata": {
      "needs_background": "light"
     },
     "output_type": "display_data"
    }
   ],
   "source": [
    "# Visualization\n",
    "sns.stripplot(data=nykaa_features)"
   ]
  },
  {
   "cell_type": "code",
   "execution_count": 24,
   "metadata": {
    "colab": {
     "base_uri": "https://localhost:8080/",
     "height": 302
    },
    "id": "ptd6FyNf0xmZ",
    "outputId": "73fe9f98-7174-4776-84a4-765bdd17fbf5"
   },
   "outputs": [
    {
     "data": {
      "text/plain": [
       "0          ETUDE HOUSE\n",
       "1        L'Oreal Paris\n",
       "2        The Body Shop\n",
       "3        True Elements\n",
       "4      Nykaa Cosmetics\n",
       "            ...       \n",
       "603             Jovees\n",
       "605               Orly\n",
       "606          BOLLYGLOW\n",
       "608          L.A. Girl\n",
       "609              M.A.C\n",
       "Name: Product Brand, Length: 486, dtype: object"
      ]
     },
     "execution_count": 24,
     "metadata": {},
     "output_type": "execute_result"
    }
   ],
   "source": [
    "# Printing rand products using the Product Brand column\n",
    "nykaa_features['Product Brand']"
   ]
  },
  {
   "cell_type": "code",
   "execution_count": 25,
   "metadata": {},
   "outputs": [],
   "source": [
    "# Finding number of products of each brand\n",
    "brands=[]\n",
    "for brand in nykaa_features['Product Brand']:\n",
    "    brands.append(brand)\n",
    "    \n",
    "from collections import Counter\n",
    "c = Counter(brands)\n",
    "pb=[];qty=[]\n",
    "for k in c:\n",
    "    pb.append(k)\n",
    "    qty.append(c.get(k))"
   ]
  },
  {
   "cell_type": "code",
   "execution_count": 26,
   "metadata": {
    "colab": {
     "base_uri": "https://localhost:8080/",
     "height": 143
    },
    "id": "d3lkIzBkFOxY",
    "outputId": "676b0d84-c045-4fdd-9e02-ece22fc5d3b1"
   },
   "outputs": [],
   "source": [
    "# Creating new dataframe\n",
    "df=pd.DataFrame(\n",
    "{\"Product Brand\":pb,\n",
    " \"Qty\":qty\n",
    "})"
   ]
  },
  {
   "cell_type": "code",
   "execution_count": 27,
   "metadata": {},
   "outputs": [],
   "source": [
    "# Sorting by most popular brands\n",
    "df.sort_values(by='Qty', ascending=False, inplace=True)"
   ]
  },
  {
   "cell_type": "code",
   "execution_count": 28,
   "metadata": {},
   "outputs": [
    {
     "data": {
      "text/html": [
       "<div>\n",
       "<style scoped>\n",
       "    .dataframe tbody tr th:only-of-type {\n",
       "        vertical-align: middle;\n",
       "    }\n",
       "\n",
       "    .dataframe tbody tr th {\n",
       "        vertical-align: top;\n",
       "    }\n",
       "\n",
       "    .dataframe thead th {\n",
       "        text-align: right;\n",
       "    }\n",
       "</style>\n",
       "<table border=\"1\" class=\"dataframe\">\n",
       "  <thead>\n",
       "    <tr style=\"text-align: right;\">\n",
       "      <th></th>\n",
       "      <th>Product Brand</th>\n",
       "      <th>Qty</th>\n",
       "    </tr>\n",
       "  </thead>\n",
       "  <tbody>\n",
       "    <tr>\n",
       "      <th>4</th>\n",
       "      <td>Nykaa Cosmetics</td>\n",
       "      <td>17</td>\n",
       "    </tr>\n",
       "    <tr>\n",
       "      <th>21</th>\n",
       "      <td>Himalaya</td>\n",
       "      <td>17</td>\n",
       "    </tr>\n",
       "    <tr>\n",
       "      <th>48</th>\n",
       "      <td>Lakme</td>\n",
       "      <td>14</td>\n",
       "    </tr>\n",
       "    <tr>\n",
       "      <th>30</th>\n",
       "      <td>Biotique</td>\n",
       "      <td>11</td>\n",
       "    </tr>\n",
       "    <tr>\n",
       "      <th>60</th>\n",
       "      <td>Nykaa Naturals</td>\n",
       "      <td>11</td>\n",
       "    </tr>\n",
       "    <tr>\n",
       "      <th>6</th>\n",
       "      <td>Nivea</td>\n",
       "      <td>10</td>\n",
       "    </tr>\n",
       "    <tr>\n",
       "      <th>7</th>\n",
       "      <td>Lotus Herbals</td>\n",
       "      <td>9</td>\n",
       "    </tr>\n",
       "    <tr>\n",
       "      <th>1</th>\n",
       "      <td>L'Oreal Paris</td>\n",
       "      <td>8</td>\n",
       "    </tr>\n",
       "    <tr>\n",
       "      <th>86</th>\n",
       "      <td>Kay Beauty</td>\n",
       "      <td>8</td>\n",
       "    </tr>\n",
       "    <tr>\n",
       "      <th>11</th>\n",
       "      <td>Lime Crime</td>\n",
       "      <td>7</td>\n",
       "    </tr>\n",
       "  </tbody>\n",
       "</table>\n",
       "</div>"
      ],
      "text/plain": [
       "      Product Brand  Qty\n",
       "4   Nykaa Cosmetics   17\n",
       "21         Himalaya   17\n",
       "48            Lakme   14\n",
       "30         Biotique   11\n",
       "60   Nykaa Naturals   11\n",
       "6             Nivea   10\n",
       "7     Lotus Herbals    9\n",
       "1     L'Oreal Paris    8\n",
       "86       Kay Beauty    8\n",
       "11       Lime Crime    7"
      ]
     },
     "execution_count": 28,
     "metadata": {},
     "output_type": "execute_result"
    }
   ],
   "source": [
    "# Printing top 10 rows\n",
    "df_nykaa = df[0:10]\n",
    "df_nykaa"
   ]
  },
  {
   "cell_type": "code",
   "execution_count": 29,
   "metadata": {},
   "outputs": [
    {
     "data": {
      "text/plain": [
       "Text(0.5, 1.0, 'Top 10 brands of Nykaa')"
      ]
     },
     "execution_count": 29,
     "metadata": {},
     "output_type": "execute_result"
    },
    {
     "data": {
      "image/png": "[encoded data removed]",
      "text/plain": [
       "<Figure size 864x720 with 1 Axes>"
      ]
     },
     "metadata": {},
     "output_type": "display_data"
    }
   ],
   "source": [
    "# Ploting product brand versus quantity\n",
    "sns.set(rc = {'figure.figsize':(12,10)})\n",
    "a = sns.barplot(data = df_nykaa,  x='Qty', y='Product Brand', color = None)\n",
    "a.set_title ('Top 10 brands of Nykaa') "
   ]
  },
  {
   "cell_type": "markdown",
   "metadata": {},
   "source": [
    "As per the results Nykaa Cosmetics are more popular in the market along with Himalaya products. The least sold brand is Lime crime which is American cosmetic brand."
   ]
  },
  {
   "cell_type": "code",
   "execution_count": 30,
   "metadata": {},
   "outputs": [],
   "source": [
    "# selecting particular features from nykaa data frame for the futher analysis\n",
    "nykaa_df1 = nykaa_features[['Product Brand','Product Price','Product Rating']]"
   ]
  },
  {
   "cell_type": "code",
   "execution_count": 31,
   "metadata": {},
   "outputs": [
    {
     "name": "stdout",
     "output_type": "stream",
     "text": [
      "      Product Brand  Product Price  Product Rating\n",
      "485     Bobbi Brown         7900.0             4.5\n",
      "18          CADIVEU         7000.0             4.3\n",
      "378         CADIVEU         7000.0             5.0\n",
      "106        Guerlain         6125.0             4.7\n",
      "339      L'Occitane         5800.0             4.3\n",
      "..              ...            ...             ...\n",
      "591        Himalaya           41.0             4.5\n",
      "112       KamaSutra           40.0             4.1\n",
      "85         Himalaya           33.0             4.2\n",
      "438           Liril           32.0             4.4\n",
      "476  Godrej Protekt           25.0             4.4\n",
      "\n",
      "[486 rows x 3 columns]\n"
     ]
    },
    {
     "name": "stderr",
     "output_type": "stream",
     "text": [
      "C:\\Users\\USER\\AppData\\Local\\Temp\\ipykernel_9064\\3055115183.py:2: SettingWithCopyWarning: \n",
      "A value is trying to be set on a copy of a slice from a DataFrame\n",
      "\n",
      "See the caveats in the documentation: https://pandas.pydata.org/pandas-docs/stable/user_guide/indexing.html#returning-a-view-versus-a-copy\n",
      "  nykaa_df1.sort_values (by=\"Product Price\", ascending = False,inplace=True)\n"
     ]
    }
   ],
   "source": [
    "# Finding the most costliest brands\n",
    "nykaa_df1.sort_values (by=\"Product Price\", ascending = False,inplace=True)\n",
    "print(nykaa_df1)"
   ]
  },
  {
   "cell_type": "code",
   "execution_count": 32,
   "metadata": {},
   "outputs": [
    {
     "data": {
      "text/html": [
       "<div>\n",
       "<style scoped>\n",
       "    .dataframe tbody tr th:only-of-type {\n",
       "        vertical-align: middle;\n",
       "    }\n",
       "\n",
       "    .dataframe tbody tr th {\n",
       "        vertical-align: top;\n",
       "    }\n",
       "\n",
       "    .dataframe thead th {\n",
       "        text-align: right;\n",
       "    }\n",
       "</style>\n",
       "<table border=\"1\" class=\"dataframe\">\n",
       "  <thead>\n",
       "    <tr style=\"text-align: right;\">\n",
       "      <th></th>\n",
       "      <th>Product Brand</th>\n",
       "      <th>Product Price</th>\n",
       "      <th>Product Rating</th>\n",
       "    </tr>\n",
       "  </thead>\n",
       "  <tbody>\n",
       "    <tr>\n",
       "      <th>485</th>\n",
       "      <td>Bobbi Brown</td>\n",
       "      <td>7900.0</td>\n",
       "      <td>4.5</td>\n",
       "    </tr>\n",
       "    <tr>\n",
       "      <th>18</th>\n",
       "      <td>CADIVEU</td>\n",
       "      <td>7000.0</td>\n",
       "      <td>4.3</td>\n",
       "    </tr>\n",
       "    <tr>\n",
       "      <th>378</th>\n",
       "      <td>CADIVEU</td>\n",
       "      <td>7000.0</td>\n",
       "      <td>5.0</td>\n",
       "    </tr>\n",
       "    <tr>\n",
       "      <th>106</th>\n",
       "      <td>Guerlain</td>\n",
       "      <td>6125.0</td>\n",
       "      <td>4.7</td>\n",
       "    </tr>\n",
       "    <tr>\n",
       "      <th>339</th>\n",
       "      <td>L'Occitane</td>\n",
       "      <td>5800.0</td>\n",
       "      <td>4.3</td>\n",
       "    </tr>\n",
       "    <tr>\n",
       "      <th>306</th>\n",
       "      <td>L'Occitane</td>\n",
       "      <td>5800.0</td>\n",
       "      <td>4.3</td>\n",
       "    </tr>\n",
       "    <tr>\n",
       "      <th>131</th>\n",
       "      <td>Givenchy</td>\n",
       "      <td>5650.0</td>\n",
       "      <td>4.7</td>\n",
       "    </tr>\n",
       "    <tr>\n",
       "      <th>573</th>\n",
       "      <td>Charlotte Tilbury</td>\n",
       "      <td>5650.0</td>\n",
       "      <td>4.0</td>\n",
       "    </tr>\n",
       "    <tr>\n",
       "      <th>326</th>\n",
       "      <td>Dunhill</td>\n",
       "      <td>5100.0</td>\n",
       "      <td>5.0</td>\n",
       "    </tr>\n",
       "    <tr>\n",
       "      <th>384</th>\n",
       "      <td>HERMÃˆS</td>\n",
       "      <td>5050.0</td>\n",
       "      <td>4.9</td>\n",
       "    </tr>\n",
       "    <tr>\n",
       "      <th>276</th>\n",
       "      <td>Charlotte Tilbury</td>\n",
       "      <td>4900.0</td>\n",
       "      <td>4.5</td>\n",
       "    </tr>\n",
       "    <tr>\n",
       "      <th>73</th>\n",
       "      <td>Charlotte Tilbury</td>\n",
       "      <td>4900.0</td>\n",
       "      <td>4.6</td>\n",
       "    </tr>\n",
       "    <tr>\n",
       "      <th>100</th>\n",
       "      <td>Guerlain</td>\n",
       "      <td>4775.0</td>\n",
       "      <td>4.5</td>\n",
       "    </tr>\n",
       "    <tr>\n",
       "      <th>221</th>\n",
       "      <td>Montblanc</td>\n",
       "      <td>4590.0</td>\n",
       "      <td>4.6</td>\n",
       "    </tr>\n",
       "    <tr>\n",
       "      <th>558</th>\n",
       "      <td>Kenzo</td>\n",
       "      <td>4425.0</td>\n",
       "      <td>4.0</td>\n",
       "    </tr>\n",
       "    <tr>\n",
       "      <th>311</th>\n",
       "      <td>Bobbi Brown</td>\n",
       "      <td>4400.0</td>\n",
       "      <td>3.9</td>\n",
       "    </tr>\n",
       "    <tr>\n",
       "      <th>308</th>\n",
       "      <td>Issey Miyake</td>\n",
       "      <td>4122.0</td>\n",
       "      <td>4.3</td>\n",
       "    </tr>\n",
       "    <tr>\n",
       "      <th>30</th>\n",
       "      <td>O3+</td>\n",
       "      <td>4000.0</td>\n",
       "      <td>4.0</td>\n",
       "    </tr>\n",
       "    <tr>\n",
       "      <th>503</th>\n",
       "      <td>QUINOAPLEX R3</td>\n",
       "      <td>3999.0</td>\n",
       "      <td>4.0</td>\n",
       "    </tr>\n",
       "    <tr>\n",
       "      <th>195</th>\n",
       "      <td>Bobbi Brown</td>\n",
       "      <td>3950.0</td>\n",
       "      <td>4.1</td>\n",
       "    </tr>\n",
       "  </tbody>\n",
       "</table>\n",
       "</div>"
      ],
      "text/plain": [
       "         Product Brand  Product Price  Product Rating\n",
       "485        Bobbi Brown         7900.0             4.5\n",
       "18             CADIVEU         7000.0             4.3\n",
       "378            CADIVEU         7000.0             5.0\n",
       "106           Guerlain         6125.0             4.7\n",
       "339         L'Occitane         5800.0             4.3\n",
       "306         L'Occitane         5800.0             4.3\n",
       "131           Givenchy         5650.0             4.7\n",
       "573  Charlotte Tilbury         5650.0             4.0\n",
       "326            Dunhill         5100.0             5.0\n",
       "384            HERMÃˆS         5050.0             4.9\n",
       "276  Charlotte Tilbury         4900.0             4.5\n",
       "73   Charlotte Tilbury         4900.0             4.6\n",
       "100           Guerlain         4775.0             4.5\n",
       "221          Montblanc         4590.0             4.6\n",
       "558              Kenzo         4425.0             4.0\n",
       "311        Bobbi Brown         4400.0             3.9\n",
       "308       Issey Miyake         4122.0             4.3\n",
       "30                 O3+         4000.0             4.0\n",
       "503      QUINOAPLEX R3         3999.0             4.0\n",
       "195        Bobbi Brown         3950.0             4.1"
      ]
     },
     "execution_count": 32,
     "metadata": {},
     "output_type": "execute_result"
    }
   ],
   "source": [
    "# Printing costliest brands of Nykaa\n",
    "nyka_costliest = nykaa_df1[:20]\n",
    "nyka_costliest"
   ]
  },
  {
   "cell_type": "code",
   "execution_count": 33,
   "metadata": {},
   "outputs": [
    {
     "data": {
      "text/html": [
       "<div>\n",
       "<style scoped>\n",
       "    .dataframe tbody tr th:only-of-type {\n",
       "        vertical-align: middle;\n",
       "    }\n",
       "\n",
       "    .dataframe tbody tr th {\n",
       "        vertical-align: top;\n",
       "    }\n",
       "\n",
       "    .dataframe thead th {\n",
       "        text-align: right;\n",
       "    }\n",
       "</style>\n",
       "<table border=\"1\" class=\"dataframe\">\n",
       "  <thead>\n",
       "    <tr style=\"text-align: right;\">\n",
       "      <th></th>\n",
       "      <th>Product Brand</th>\n",
       "      <th>Product Price</th>\n",
       "      <th>Product Rating</th>\n",
       "    </tr>\n",
       "  </thead>\n",
       "  <tbody>\n",
       "    <tr>\n",
       "      <th>485</th>\n",
       "      <td>Bobbi Brown</td>\n",
       "      <td>7900.0</td>\n",
       "      <td>4.5</td>\n",
       "    </tr>\n",
       "    <tr>\n",
       "      <th>18</th>\n",
       "      <td>CADIVEU</td>\n",
       "      <td>7000.0</td>\n",
       "      <td>4.3</td>\n",
       "    </tr>\n",
       "    <tr>\n",
       "      <th>106</th>\n",
       "      <td>Guerlain</td>\n",
       "      <td>6125.0</td>\n",
       "      <td>4.7</td>\n",
       "    </tr>\n",
       "    <tr>\n",
       "      <th>339</th>\n",
       "      <td>L'Occitane</td>\n",
       "      <td>5800.0</td>\n",
       "      <td>4.3</td>\n",
       "    </tr>\n",
       "    <tr>\n",
       "      <th>131</th>\n",
       "      <td>Givenchy</td>\n",
       "      <td>5650.0</td>\n",
       "      <td>4.7</td>\n",
       "    </tr>\n",
       "    <tr>\n",
       "      <th>573</th>\n",
       "      <td>Charlotte Tilbury</td>\n",
       "      <td>5650.0</td>\n",
       "      <td>4.0</td>\n",
       "    </tr>\n",
       "    <tr>\n",
       "      <th>326</th>\n",
       "      <td>Dunhill</td>\n",
       "      <td>5100.0</td>\n",
       "      <td>5.0</td>\n",
       "    </tr>\n",
       "    <tr>\n",
       "      <th>384</th>\n",
       "      <td>HERMÃˆS</td>\n",
       "      <td>5050.0</td>\n",
       "      <td>4.9</td>\n",
       "    </tr>\n",
       "    <tr>\n",
       "      <th>221</th>\n",
       "      <td>Montblanc</td>\n",
       "      <td>4590.0</td>\n",
       "      <td>4.6</td>\n",
       "    </tr>\n",
       "    <tr>\n",
       "      <th>558</th>\n",
       "      <td>Kenzo</td>\n",
       "      <td>4425.0</td>\n",
       "      <td>4.0</td>\n",
       "    </tr>\n",
       "    <tr>\n",
       "      <th>308</th>\n",
       "      <td>Issey Miyake</td>\n",
       "      <td>4122.0</td>\n",
       "      <td>4.3</td>\n",
       "    </tr>\n",
       "    <tr>\n",
       "      <th>30</th>\n",
       "      <td>O3+</td>\n",
       "      <td>4000.0</td>\n",
       "      <td>4.0</td>\n",
       "    </tr>\n",
       "    <tr>\n",
       "      <th>503</th>\n",
       "      <td>QUINOAPLEX R3</td>\n",
       "      <td>3999.0</td>\n",
       "      <td>4.0</td>\n",
       "    </tr>\n",
       "  </tbody>\n",
       "</table>\n",
       "</div>"
      ],
      "text/plain": [
       "         Product Brand  Product Price  Product Rating\n",
       "485        Bobbi Brown         7900.0             4.5\n",
       "18             CADIVEU         7000.0             4.3\n",
       "106           Guerlain         6125.0             4.7\n",
       "339         L'Occitane         5800.0             4.3\n",
       "131           Givenchy         5650.0             4.7\n",
       "573  Charlotte Tilbury         5650.0             4.0\n",
       "326            Dunhill         5100.0             5.0\n",
       "384            HERMÃˆS         5050.0             4.9\n",
       "221          Montblanc         4590.0             4.6\n",
       "558              Kenzo         4425.0             4.0\n",
       "308       Issey Miyake         4122.0             4.3\n",
       "30                 O3+         4000.0             4.0\n",
       "503      QUINOAPLEX R3         3999.0             4.0"
      ]
     },
     "execution_count": 33,
     "metadata": {},
     "output_type": "execute_result"
    }
   ],
   "source": [
    "# Remove duplicate products having same brand\n",
    "nykaa_no_duplicates = nyka_costliest.drop_duplicates(subset=['Product Brand']) \n",
    "nykaa_no_duplicates"
   ]
  },
  {
   "cell_type": "markdown",
   "metadata": {},
   "source": [
    "Finding the most costliest brand"
   ]
  },
  {
   "cell_type": "code",
   "execution_count": 34,
   "metadata": {},
   "outputs": [
    {
     "data": {
      "text/plain": [
       "Text(0.5, 1.0, 'Most costliest brands of Nykaa')"
      ]
     },
     "execution_count": 34,
     "metadata": {},
     "output_type": "execute_result"
    },
    {
     "data": {
      "image/png": "[encoded data removed]",
      "text/plain": [
       "<Figure size 1080x648 with 1 Axes>"
      ]
     },
     "metadata": {},
     "output_type": "display_data"
    }
   ],
   "source": [
    "# Ordering the product brand based on the price\n",
    "sns.set(rc = {'figure.figsize':(15,9)})\n",
    "a = sns.barplot(data = nykaa_no_duplicates, y = 'Product Brand', x = 'Product Price')\n",
    "a.set_title(\"Most costliest brands of Nykaa\")"
   ]
  },
  {
   "cell_type": "markdown",
   "metadata": {},
   "source": [
    "The costliest brand among all of them is Bobbi Brown (Rs.8000) and low price brand is Quinoaplex R3 with 4000 rupees. "
   ]
  },
  {
   "cell_type": "code",
   "execution_count": 35,
   "metadata": {},
   "outputs": [
    {
     "data": {
      "text/html": [
       "<div>\n",
       "<style scoped>\n",
       "    .dataframe tbody tr th:only-of-type {\n",
       "        vertical-align: middle;\n",
       "    }\n",
       "\n",
       "    .dataframe tbody tr th {\n",
       "        vertical-align: top;\n",
       "    }\n",
       "\n",
       "    .dataframe thead th {\n",
       "        text-align: right;\n",
       "    }\n",
       "</style>\n",
       "<table border=\"1\" class=\"dataframe\">\n",
       "  <thead>\n",
       "    <tr style=\"text-align: right;\">\n",
       "      <th></th>\n",
       "      <th>Product Brand</th>\n",
       "      <th>Product Price</th>\n",
       "      <th>Product Rating</th>\n",
       "    </tr>\n",
       "  </thead>\n",
       "  <tbody>\n",
       "    <tr>\n",
       "      <th>378</th>\n",
       "      <td>CADIVEU</td>\n",
       "      <td>7000.0</td>\n",
       "      <td>5.0</td>\n",
       "    </tr>\n",
       "    <tr>\n",
       "      <th>326</th>\n",
       "      <td>Dunhill</td>\n",
       "      <td>5100.0</td>\n",
       "      <td>5.0</td>\n",
       "    </tr>\n",
       "    <tr>\n",
       "      <th>507</th>\n",
       "      <td>Burberry</td>\n",
       "      <td>3680.0</td>\n",
       "      <td>5.0</td>\n",
       "    </tr>\n",
       "    <tr>\n",
       "      <th>28</th>\n",
       "      <td>Burberry</td>\n",
       "      <td>3680.0</td>\n",
       "      <td>5.0</td>\n",
       "    </tr>\n",
       "    <tr>\n",
       "      <th>543</th>\n",
       "      <td>PRADA</td>\n",
       "      <td>3559.0</td>\n",
       "      <td>5.0</td>\n",
       "    </tr>\n",
       "    <tr>\n",
       "      <th>...</th>\n",
       "      <td>...</td>\n",
       "      <td>...</td>\n",
       "      <td>...</td>\n",
       "    </tr>\n",
       "    <tr>\n",
       "      <th>183</th>\n",
       "      <td>Paese Cosmetics</td>\n",
       "      <td>1499.0</td>\n",
       "      <td>2.0</td>\n",
       "    </tr>\n",
       "    <tr>\n",
       "      <th>134</th>\n",
       "      <td>IsaDora</td>\n",
       "      <td>810.0</td>\n",
       "      <td>2.0</td>\n",
       "    </tr>\n",
       "    <tr>\n",
       "      <th>113</th>\n",
       "      <td>As-It-Is Nutrition</td>\n",
       "      <td>576.0</td>\n",
       "      <td>2.0</td>\n",
       "    </tr>\n",
       "    <tr>\n",
       "      <th>142</th>\n",
       "      <td>First Water</td>\n",
       "      <td>269.0</td>\n",
       "      <td>2.0</td>\n",
       "    </tr>\n",
       "    <tr>\n",
       "      <th>208</th>\n",
       "      <td>Ellement Co.</td>\n",
       "      <td>325.0</td>\n",
       "      <td>1.0</td>\n",
       "    </tr>\n",
       "  </tbody>\n",
       "</table>\n",
       "<p>486 rows × 3 columns</p>\n",
       "</div>"
      ],
      "text/plain": [
       "          Product Brand  Product Price  Product Rating\n",
       "378             CADIVEU         7000.0             5.0\n",
       "326             Dunhill         5100.0             5.0\n",
       "507            Burberry         3680.0             5.0\n",
       "28             Burberry         3680.0             5.0\n",
       "543               PRADA         3559.0             5.0\n",
       "..                  ...            ...             ...\n",
       "183     Paese Cosmetics         1499.0             2.0\n",
       "134             IsaDora          810.0             2.0\n",
       "113  As-It-Is Nutrition          576.0             2.0\n",
       "142         First Water          269.0             2.0\n",
       "208        Ellement Co.          325.0             1.0\n",
       "\n",
       "[486 rows x 3 columns]"
      ]
     },
     "execution_count": 35,
     "metadata": {},
     "output_type": "execute_result"
    }
   ],
   "source": [
    "# Sorting products based on their rating\n",
    "nykaa_df_rating = nykaa_df1.sort_values(by=['Product Rating','Product Price'], ascending=False)\n",
    "nykaa_df_rating"
   ]
  },
  {
   "cell_type": "code",
   "execution_count": 36,
   "metadata": {},
   "outputs": [],
   "source": [
    "# finding ratings using for loop\n",
    "c = one_star = two_star = three_star = four_star = five_star = 0\n",
    "for row in nykaa_df_rating.iterrows():\n",
    "    c+=1\n",
    "    if (row[1][2]==5.0):\n",
    "        five_star+=1\n",
    "    if (row[1][2]>=4.0 and row[1][2]<5.0):\n",
    "        four_star+=1\n",
    "    if (row[1][2]>=3.0 and row[1][2]<4.0):\n",
    "        three_star+=1\n",
    "    if (row[1][2]>=2.0 and row[1][2]<3.0):\n",
    "        two_star+=1\n",
    "    if (row[1][2]>=1.0 and row[1][2]<2.0):\n",
    "        one_star+=1"
   ]
  },
  {
   "cell_type": "markdown",
   "metadata": {},
   "source": [
    "Star rating in each category"
   ]
  },
  {
   "cell_type": "code",
   "execution_count": 37,
   "metadata": {},
   "outputs": [
    {
     "data": {
      "text/html": [
       "<div>\n",
       "<style scoped>\n",
       "    .dataframe tbody tr th:only-of-type {\n",
       "        vertical-align: middle;\n",
       "    }\n",
       "\n",
       "    .dataframe tbody tr th {\n",
       "        vertical-align: top;\n",
       "    }\n",
       "\n",
       "    .dataframe thead th {\n",
       "        text-align: right;\n",
       "    }\n",
       "</style>\n",
       "<table border=\"1\" class=\"dataframe\">\n",
       "  <thead>\n",
       "    <tr style=\"text-align: right;\">\n",
       "      <th></th>\n",
       "      <th>Stars</th>\n",
       "      <th>Count</th>\n",
       "    </tr>\n",
       "  </thead>\n",
       "  <tbody>\n",
       "    <tr>\n",
       "      <th>0</th>\n",
       "      <td>Five Stars</td>\n",
       "      <td>47</td>\n",
       "    </tr>\n",
       "    <tr>\n",
       "      <th>1</th>\n",
       "      <td>Four Stars</td>\n",
       "      <td>356</td>\n",
       "    </tr>\n",
       "    <tr>\n",
       "      <th>2</th>\n",
       "      <td>Three Stars</td>\n",
       "      <td>74</td>\n",
       "    </tr>\n",
       "    <tr>\n",
       "      <th>3</th>\n",
       "      <td>Two Stars</td>\n",
       "      <td>8</td>\n",
       "    </tr>\n",
       "    <tr>\n",
       "      <th>4</th>\n",
       "      <td>One Stars</td>\n",
       "      <td>1</td>\n",
       "    </tr>\n",
       "  </tbody>\n",
       "</table>\n",
       "</div>"
      ],
      "text/plain": [
       "         Stars  Count\n",
       "0   Five Stars     47\n",
       "1   Four Stars    356\n",
       "2  Three Stars     74\n",
       "3    Two Stars      8\n",
       "4    One Stars      1"
      ]
     },
     "execution_count": 37,
     "metadata": {},
     "output_type": "execute_result"
    }
   ],
   "source": [
    "# Count of each stars\n",
    "ratings_nykaa_df=pd.DataFrame({\n",
    "    'Stars':['Five Stars','Four Stars','Three Stars','Two Stars','One Stars'],\n",
    "    'Count':[five_star, four_star, three_star, two_star, one_star]\n",
    "})\n",
    "ratings_nykaa_df"
   ]
  },
  {
   "cell_type": "code",
   "execution_count": 38,
   "metadata": {},
   "outputs": [
    {
     "data": {
      "text/plain": [
       "Text(0.5, 1.0, 'Star ratings counting for Nykaa')"
      ]
     },
     "execution_count": 38,
     "metadata": {},
     "output_type": "execute_result"
    },
    {
     "data": {
      "image/png": "[encoded data removed]",
      "text/plain": [
       "<Figure size 504x504 with 1 Axes>"
      ]
     },
     "metadata": {},
     "output_type": "display_data"
    }
   ],
   "source": [
    "# Plotting the star ratings count\n",
    "sns.set(rc = {'figure.figsize':(7,7)})\n",
    "a = sns.barplot(data = ratings_nykaa_df, x='Stars',y='Count')\n",
    "# Stylling\n",
    "a.set_title('Star ratings counting for Nykaa')"
   ]
  },
  {
   "cell_type": "markdown",
   "metadata": {},
   "source": [
    "Based on the above table the four_star rating is more and then three star which means people are satisfied with the products and one_star rating is low."
   ]
  },
  {
   "cell_type": "markdown",
   "metadata": {},
   "source": [
    "### Top categories"
   ]
  },
  {
   "cell_type": "markdown",
   "metadata": {},
   "source": [
    "There are multiple beauty products categories offered by Nykaa, out of those the 10 categories are listed below."
   ]
  },
  {
   "cell_type": "code",
   "execution_count": 39,
   "metadata": {},
   "outputs": [
    {
     "data": {
      "text/html": [
       "<div>\n",
       "<style scoped>\n",
       "    .dataframe tbody tr th:only-of-type {\n",
       "        vertical-align: middle;\n",
       "    }\n",
       "\n",
       "    .dataframe tbody tr th {\n",
       "        vertical-align: top;\n",
       "    }\n",
       "\n",
       "    .dataframe thead th {\n",
       "        text-align: right;\n",
       "    }\n",
       "</style>\n",
       "<table border=\"1\" class=\"dataframe\">\n",
       "  <thead>\n",
       "    <tr style=\"text-align: right;\">\n",
       "      <th></th>\n",
       "      <th>Product Category</th>\n",
       "      <th>Product Price</th>\n",
       "    </tr>\n",
       "  </thead>\n",
       "  <tbody>\n",
       "    <tr>\n",
       "      <th>0</th>\n",
       "      <td>Makeup &gt; Face &gt; Contour</td>\n",
       "      <td>600.0</td>\n",
       "    </tr>\n",
       "    <tr>\n",
       "      <th>1</th>\n",
       "      <td>Brand &gt; L'Oreal Paris</td>\n",
       "      <td>454.0</td>\n",
       "    </tr>\n",
       "    <tr>\n",
       "      <th>2</th>\n",
       "      <td>Makeup &gt; Face &gt; Foundation</td>\n",
       "      <td>1395.0</td>\n",
       "    </tr>\n",
       "    <tr>\n",
       "      <th>3</th>\n",
       "      <td>Health &amp; Wellness &gt; Good for You &gt; Super Food</td>\n",
       "      <td>175.0</td>\n",
       "    </tr>\n",
       "    <tr>\n",
       "      <th>4</th>\n",
       "      <td>Makeup &gt; Lips &gt; Lip Stain</td>\n",
       "      <td>539.0</td>\n",
       "    </tr>\n",
       "    <tr>\n",
       "      <th>...</th>\n",
       "      <td>...</td>\n",
       "      <td>...</td>\n",
       "    </tr>\n",
       "    <tr>\n",
       "      <th>603</th>\n",
       "      <td>Natural &gt; Types of Skin &gt; Combination Skin</td>\n",
       "      <td>274.0</td>\n",
       "    </tr>\n",
       "    <tr>\n",
       "      <th>605</th>\n",
       "      <td>Makeup &gt; Nails &gt; Nail Polish</td>\n",
       "      <td>1000.0</td>\n",
       "    </tr>\n",
       "    <tr>\n",
       "      <th>606</th>\n",
       "      <td>Makeup &gt; Eyes &gt; Under Eye Concealer</td>\n",
       "      <td>665.0</td>\n",
       "    </tr>\n",
       "    <tr>\n",
       "      <th>608</th>\n",
       "      <td>Makeup &gt; Makeup Kits &gt; Eye Palettes</td>\n",
       "      <td>675.0</td>\n",
       "    </tr>\n",
       "    <tr>\n",
       "      <th>609</th>\n",
       "      <td>Makeup &gt; Makeup Kits &gt; Customize Your Palette</td>\n",
       "      <td>1100.0</td>\n",
       "    </tr>\n",
       "  </tbody>\n",
       "</table>\n",
       "<p>486 rows × 2 columns</p>\n",
       "</div>"
      ],
      "text/plain": [
       "                                  Product Category  Product Price\n",
       "0                          Makeup > Face > Contour          600.0\n",
       "1                            Brand > L'Oreal Paris          454.0\n",
       "2                       Makeup > Face > Foundation         1395.0\n",
       "3    Health & Wellness > Good for You > Super Food          175.0\n",
       "4                        Makeup > Lips > Lip Stain          539.0\n",
       "..                                             ...            ...\n",
       "603     Natural > Types of Skin > Combination Skin          274.0\n",
       "605                   Makeup > Nails > Nail Polish         1000.0\n",
       "606            Makeup > Eyes > Under Eye Concealer          665.0\n",
       "608            Makeup > Makeup Kits > Eye Palettes          675.0\n",
       "609  Makeup > Makeup Kits > Customize Your Palette         1100.0\n",
       "\n",
       "[486 rows x 2 columns]"
      ]
     },
     "execution_count": 39,
     "metadata": {},
     "output_type": "execute_result"
    }
   ],
   "source": [
    "# Keeping category and price in a new dataframe\n",
    "nykaa_cat_df = nykaa_features[['Product Category','Product Price']]\n",
    "nykaa_cat_df"
   ]
  },
  {
   "cell_type": "code",
   "execution_count": 40,
   "metadata": {},
   "outputs": [
    {
     "name": "stdout",
     "output_type": "stream",
     "text": [
      "['Makeup', '>', 'Face', '>', 'Contour']\n",
      "Contour\n"
     ]
    }
   ],
   "source": [
    "# As the category contains group so splting for deeper analysis\n",
    "item = nykaa_cat_df['Product Category'][0]\n",
    "word_array = item.split(\" \")\n",
    "# Printing the array\n",
    "print(word_array)\n",
    "# Printing the required value\n",
    "print(word_array[-1])"
   ]
  },
  {
   "cell_type": "code",
   "execution_count": 41,
   "metadata": {},
   "outputs": [
    {
     "data": {
      "text/html": [
       "<div>\n",
       "<style scoped>\n",
       "    .dataframe tbody tr th:only-of-type {\n",
       "        vertical-align: middle;\n",
       "    }\n",
       "\n",
       "    .dataframe tbody tr th {\n",
       "        vertical-align: top;\n",
       "    }\n",
       "\n",
       "    .dataframe thead th {\n",
       "        text-align: right;\n",
       "    }\n",
       "</style>\n",
       "<table border=\"1\" class=\"dataframe\">\n",
       "  <thead>\n",
       "    <tr style=\"text-align: right;\">\n",
       "      <th></th>\n",
       "      <th>Item</th>\n",
       "    </tr>\n",
       "  </thead>\n",
       "  <tbody>\n",
       "    <tr>\n",
       "      <th>0</th>\n",
       "      <td>Contour</td>\n",
       "    </tr>\n",
       "    <tr>\n",
       "      <th>1</th>\n",
       "      <td>Paris</td>\n",
       "    </tr>\n",
       "    <tr>\n",
       "      <th>2</th>\n",
       "      <td>Foundation</td>\n",
       "    </tr>\n",
       "    <tr>\n",
       "      <th>3</th>\n",
       "      <td>Food</td>\n",
       "    </tr>\n",
       "    <tr>\n",
       "      <th>4</th>\n",
       "      <td>Stain</td>\n",
       "    </tr>\n",
       "    <tr>\n",
       "      <th>...</th>\n",
       "      <td>...</td>\n",
       "    </tr>\n",
       "    <tr>\n",
       "      <th>481</th>\n",
       "      <td>Skin</td>\n",
       "    </tr>\n",
       "    <tr>\n",
       "      <th>482</th>\n",
       "      <td>Polish</td>\n",
       "    </tr>\n",
       "    <tr>\n",
       "      <th>483</th>\n",
       "      <td>Concealer</td>\n",
       "    </tr>\n",
       "    <tr>\n",
       "      <th>484</th>\n",
       "      <td>Palettes</td>\n",
       "    </tr>\n",
       "    <tr>\n",
       "      <th>485</th>\n",
       "      <td>Palette</td>\n",
       "    </tr>\n",
       "  </tbody>\n",
       "</table>\n",
       "<p>486 rows × 1 columns</p>\n",
       "</div>"
      ],
      "text/plain": [
       "           Item\n",
       "0       Contour\n",
       "1         Paris\n",
       "2    Foundation\n",
       "3          Food\n",
       "4         Stain\n",
       "..          ...\n",
       "481        Skin\n",
       "482      Polish\n",
       "483   Concealer\n",
       "484    Palettes\n",
       "485     Palette\n",
       "\n",
       "[486 rows x 1 columns]"
      ]
     },
     "execution_count": 41,
     "metadata": {},
     "output_type": "execute_result"
    }
   ],
   "source": [
    "# Adding face makeup items in a dataframe\n",
    "items=[]\n",
    "# Doing iterations\n",
    "for row in nykaa_cat_df.iterrows():\n",
    "    word_array = (row[1][0]).split(\" \")\n",
    "    item_name = word_array[-1]\n",
    "    item_category = word_array[-3]\n",
    "    # appending the item name to items\n",
    "    items.append(item_name)\n",
    "\n",
    "# Creating a dataframe through pandas\n",
    "makeup_df_items = pd.DataFrame({\n",
    "    'Item':items,\n",
    "})\n",
    "\n",
    "#Printing the items\n",
    "makeup_df_items"
   ]
  },
  {
   "cell_type": "code",
   "execution_count": 42,
   "metadata": {},
   "outputs": [
    {
     "data": {
      "text/html": [
       "<div>\n",
       "<style scoped>\n",
       "    .dataframe tbody tr th:only-of-type {\n",
       "        vertical-align: middle;\n",
       "    }\n",
       "\n",
       "    .dataframe tbody tr th {\n",
       "        vertical-align: top;\n",
       "    }\n",
       "\n",
       "    .dataframe thead th {\n",
       "        text-align: right;\n",
       "    }\n",
       "</style>\n",
       "<table border=\"1\" class=\"dataframe\">\n",
       "  <thead>\n",
       "    <tr style=\"text-align: right;\">\n",
       "      <th></th>\n",
       "      <th>Item</th>\n",
       "      <th>Product Price</th>\n",
       "    </tr>\n",
       "  </thead>\n",
       "  <tbody>\n",
       "    <tr>\n",
       "      <th>0</th>\n",
       "      <td>Contour</td>\n",
       "      <td>600</td>\n",
       "    </tr>\n",
       "    <tr>\n",
       "      <th>1</th>\n",
       "      <td>Paris</td>\n",
       "      <td>454</td>\n",
       "    </tr>\n",
       "    <tr>\n",
       "      <th>2</th>\n",
       "      <td>Foundation</td>\n",
       "      <td>1395</td>\n",
       "    </tr>\n",
       "    <tr>\n",
       "      <th>3</th>\n",
       "      <td>Food</td>\n",
       "      <td>175</td>\n",
       "    </tr>\n",
       "    <tr>\n",
       "      <th>4</th>\n",
       "      <td>Stain</td>\n",
       "      <td>539</td>\n",
       "    </tr>\n",
       "    <tr>\n",
       "      <th>...</th>\n",
       "      <td>...</td>\n",
       "      <td>...</td>\n",
       "    </tr>\n",
       "    <tr>\n",
       "      <th>481</th>\n",
       "      <td>Skin</td>\n",
       "      <td>1498</td>\n",
       "    </tr>\n",
       "    <tr>\n",
       "      <th>482</th>\n",
       "      <td>Polish</td>\n",
       "      <td>314</td>\n",
       "    </tr>\n",
       "    <tr>\n",
       "      <th>483</th>\n",
       "      <td>Concealer</td>\n",
       "      <td>393</td>\n",
       "    </tr>\n",
       "    <tr>\n",
       "      <th>484</th>\n",
       "      <td>Palettes</td>\n",
       "      <td>325</td>\n",
       "    </tr>\n",
       "    <tr>\n",
       "      <th>485</th>\n",
       "      <td>Palette</td>\n",
       "      <td>7900</td>\n",
       "    </tr>\n",
       "  </tbody>\n",
       "</table>\n",
       "<p>486 rows × 2 columns</p>\n",
       "</div>"
      ],
      "text/plain": [
       "           Item  Product Price\n",
       "0       Contour            600\n",
       "1         Paris            454\n",
       "2    Foundation           1395\n",
       "3          Food            175\n",
       "4         Stain            539\n",
       "..          ...            ...\n",
       "481        Skin           1498\n",
       "482      Polish            314\n",
       "483   Concealer            393\n",
       "484    Palettes            325\n",
       "485     Palette           7900\n",
       "\n",
       "[486 rows x 2 columns]"
      ]
     },
     "execution_count": 42,
     "metadata": {},
     "output_type": "execute_result"
    }
   ],
   "source": [
    "# Adding price column to makeup_df_items from nykaa_df dataframe\n",
    "makeup_df_items['Product Price'] = nykaa_df['Product Price']\n",
    "makeup_df_items"
   ]
  },
  {
   "cell_type": "code",
   "execution_count": 43,
   "metadata": {},
   "outputs": [
    {
     "data": {
      "text/plain": [
       "Text(0.5, 1.0, 'Listing product categories by Price ')"
      ]
     },
     "execution_count": 43,
     "metadata": {},
     "output_type": "execute_result"
    },
    {
     "data": {
      "image/png": "[encoded data removed]",
      "text/plain": [
       "<Figure size 576x576 with 1 Axes>"
      ]
     },
     "metadata": {},
     "output_type": "display_data"
    }
   ],
   "source": [
    "# Plotting the graph\n",
    "sns.set(rc = {'figure.figsize':(8,8)})\n",
    "# Sorting the values by price\n",
    "df_items = makeup_df_items.sort_values(by = 'Product Price', ascending = False)\n",
    "\n",
    "# Taking top 10 categories\n",
    "b = sns.barplot(data = df_items[0:10], x = 'Product Price',y = 'Item')\n",
    "# Title assign\n",
    "b.set_title('Listing product categories by Price ')"
   ]
  },
  {
   "cell_type": "markdown",
   "metadata": {},
   "source": [
    "Polish is the top rated category and Skin related items are under low price section."
   ]
  },
  {
   "cell_type": "code",
   "execution_count": 44,
   "metadata": {},
   "outputs": [
    {
     "data": {
      "text/html": [
       "<div>\n",
       "<style scoped>\n",
       "    .dataframe tbody tr th:only-of-type {\n",
       "        vertical-align: middle;\n",
       "    }\n",
       "\n",
       "    .dataframe tbody tr th {\n",
       "        vertical-align: top;\n",
       "    }\n",
       "\n",
       "    .dataframe thead th {\n",
       "        text-align: right;\n",
       "    }\n",
       "</style>\n",
       "<table border=\"1\" class=\"dataframe\">\n",
       "  <thead>\n",
       "    <tr style=\"text-align: right;\">\n",
       "      <th></th>\n",
       "      <th>Items</th>\n",
       "      <th>Quantity</th>\n",
       "    </tr>\n",
       "  </thead>\n",
       "  <tbody>\n",
       "    <tr>\n",
       "      <th>6</th>\n",
       "      <td>Lipstick</td>\n",
       "      <td>40</td>\n",
       "    </tr>\n",
       "    <tr>\n",
       "      <th>9</th>\n",
       "      <td>Skin</td>\n",
       "      <td>26</td>\n",
       "    </tr>\n",
       "    <tr>\n",
       "      <th>13</th>\n",
       "      <td>Concealer</td>\n",
       "      <td>19</td>\n",
       "    </tr>\n",
       "    <tr>\n",
       "      <th>5</th>\n",
       "      <td>Nykaa</td>\n",
       "      <td>17</td>\n",
       "    </tr>\n",
       "    <tr>\n",
       "      <th>2</th>\n",
       "      <td>Blush</td>\n",
       "      <td>15</td>\n",
       "    </tr>\n",
       "    <tr>\n",
       "      <th>...</th>\n",
       "      <td>...</td>\n",
       "      <td>...</td>\n",
       "    </tr>\n",
       "    <tr>\n",
       "      <th>79</th>\n",
       "      <td>Applicators</td>\n",
       "      <td>1</td>\n",
       "    </tr>\n",
       "    <tr>\n",
       "      <th>80</th>\n",
       "      <td>Mists</td>\n",
       "      <td>1</td>\n",
       "    </tr>\n",
       "    <tr>\n",
       "      <th>11</th>\n",
       "      <td>Deodorants/Roll-ons</td>\n",
       "      <td>1</td>\n",
       "    </tr>\n",
       "    <tr>\n",
       "      <th>38</th>\n",
       "      <td>Sanitizer</td>\n",
       "      <td>1</td>\n",
       "    </tr>\n",
       "    <tr>\n",
       "      <th>103</th>\n",
       "      <td>Waxes</td>\n",
       "      <td>1</td>\n",
       "    </tr>\n",
       "  </tbody>\n",
       "</table>\n",
       "<p>104 rows × 2 columns</p>\n",
       "</div>"
      ],
      "text/plain": [
       "                   Items  Quantity\n",
       "6               Lipstick        40\n",
       "9                   Skin        26\n",
       "13             Concealer        19\n",
       "5                  Nykaa        17\n",
       "2                  Blush        15\n",
       "..                   ...       ...\n",
       "79           Applicators         1\n",
       "80                 Mists         1\n",
       "11   Deodorants/Roll-ons         1\n",
       "38             Sanitizer         1\n",
       "103                Waxes         1\n",
       "\n",
       "[104 rows x 2 columns]"
      ]
     },
     "execution_count": 44,
     "metadata": {},
     "output_type": "execute_result"
    }
   ],
   "source": [
    "# Taking two variables and assigning empty arrays\n",
    "items = []\n",
    "item_numbers = []\n",
    "\n",
    "# importing collections from counter\n",
    "from collections import Counter\n",
    "# Counting the hashale objects in nykaa dataframe using counter function\n",
    "c = Counter(df_items['Item'])\n",
    "# Iteration for appending to items array\n",
    "for i in c:\n",
    "    # appending c to i\n",
    "    items.append(i)\n",
    "    # Quantity count\n",
    "    item_numbers.append(c.get(i))\n",
    "\n",
    "# Creating new dataframe with items and quantity values\n",
    "nykaa_item_category = pd.DataFrame({\n",
    "    'Items' : items,\n",
    "    'Quantity' : item_numbers\n",
    "})\n",
    "# Sorting the items with respect to quantity\n",
    "nykaa_item_category = nykaa_item_category.sort_values(by = 'Quantity', ascending=False)\n",
    "# Printing the item categories\n",
    "nykaa_item_category"
   ]
  },
  {
   "cell_type": "code",
   "execution_count": 45,
   "metadata": {
    "scrolled": true
   },
   "outputs": [
    {
     "data": {
      "text/plain": [
       "Text(0.5, 1.0, 'Higher sold products')"
      ]
     },
     "execution_count": 45,
     "metadata": {},
     "output_type": "execute_result"
    },
    {
     "data": {
      "image/png": "[encoded data removed]",
      "text/plain": [
       "<Figure size 1080x1080 with 1 Axes>"
      ]
     },
     "metadata": {},
     "output_type": "display_data"
    }
   ],
   "source": [
    "# figure size assigning\n",
    "sns.set(rc = {'figure.figsize':(15,15)})\n",
    "\n",
    "# Clearing background theme\n",
    "sns.set_theme(style = \"white\", palette = 'Wistia')\n",
    "# Plotting bar graph\n",
    "a = sns.barplot(data = nykaa_item_category[:15] , x = 'Items', y = 'Quantity')\n",
    "# Title\n",
    "a.set_title('Higher sold products')"
   ]
  },
  {
   "cell_type": "markdown",
   "metadata": {},
   "source": [
    "The most sold product is Lipstick because women preferred lipstick first out of all the makeup."
   ]
  },
  {
   "cell_type": "code",
   "execution_count": 46,
   "metadata": {},
   "outputs": [
    {
     "name": "stderr",
     "output_type": "stream",
     "text": [
      "C:\\Users\\USER\\AppData\\Local\\Temp\\ipykernel_9064\\2977609002.py:3: SettingWithCopyWarning: \n",
      "A value is trying to be set on a copy of a slice from a DataFrame\n",
      "\n",
      "See the caveats in the documentation: https://pandas.pydata.org/pandas-docs/stable/user_guide/indexing.html#returning-a-view-versus-a-copy\n",
      "  nykaa_reviews.sort_values(by = 'Product Reviews Count',ascending = False, inplace = True)\n",
      "C:\\Users\\USER\\AppData\\Local\\Temp\\ipykernel_9064\\2977609002.py:4: SettingWithCopyWarning: \n",
      "A value is trying to be set on a copy of a slice from a DataFrame\n",
      "\n",
      "See the caveats in the documentation: https://pandas.pydata.org/pandas-docs/stable/user_guide/indexing.html#returning-a-view-versus-a-copy\n",
      "  nykaa_reviews.drop_duplicates(subset = ['Product Brand'], inplace = True)\n"
     ]
    }
   ],
   "source": [
    "# Sorting the values ad removing duplicates\n",
    "nykaa_reviews = nykaa_features[['Product Brand', 'Product Reviews Count']]\n",
    "nykaa_reviews.sort_values(by = 'Product Reviews Count',ascending = False, inplace = True)\n",
    "nykaa_reviews.drop_duplicates(subset = ['Product Brand'], inplace = True)"
   ]
  },
  {
   "cell_type": "code",
   "execution_count": 47,
   "metadata": {
    "scrolled": true
   },
   "outputs": [
    {
     "data": {
      "text/plain": [
       "Text(0.5, 1.0, 'Top reviewed products')"
      ]
     },
     "execution_count": 47,
     "metadata": {},
     "output_type": "execute_result"
    },
    {
     "data": {
      "image/png": "[encoded data removed]",
      "text/plain": [
       "<Figure size 1728x720 with 1 Axes>"
      ]
     },
     "metadata": {},
     "output_type": "display_data"
    }
   ],
   "source": [
    "# Visualizations\n",
    "sns.set(rc={'figure.figsize':(24,10)})\n",
    "x = sns.pointplot(data = nykaa_reviews[:15], x = 'Product Brand',y = 'Product Reviews Count')\n",
    "# stylling\n",
    "x.set_title('Top reviewed products')"
   ]
  },
  {
   "cell_type": "code",
   "execution_count": 48,
   "metadata": {},
   "outputs": [
    {
     "name": "stderr",
     "output_type": "stream",
     "text": [
      "C:\\Users\\USER\\AppData\\Local\\Temp\\ipykernel_9064\\1385003081.py:3: SettingWithCopyWarning: \n",
      "A value is trying to be set on a copy of a slice from a DataFrame\n",
      "\n",
      "See the caveats in the documentation: https://pandas.pydata.org/pandas-docs/stable/user_guide/indexing.html#returning-a-view-versus-a-copy\n",
      "  df.dropna(inplace=True)\n"
     ]
    },
    {
     "data": {
      "text/html": [
       "<div>\n",
       "<style scoped>\n",
       "    .dataframe tbody tr th:only-of-type {\n",
       "        vertical-align: middle;\n",
       "    }\n",
       "\n",
       "    .dataframe tbody tr th {\n",
       "        vertical-align: top;\n",
       "    }\n",
       "\n",
       "    .dataframe thead th {\n",
       "        text-align: right;\n",
       "    }\n",
       "</style>\n",
       "<table border=\"1\" class=\"dataframe\">\n",
       "  <thead>\n",
       "    <tr style=\"text-align: right;\">\n",
       "      <th></th>\n",
       "      <th>Product Contents</th>\n",
       "      <th>Product Price</th>\n",
       "      <th>Product Brand</th>\n",
       "    </tr>\n",
       "  </thead>\n",
       "  <tbody>\n",
       "    <tr>\n",
       "      <th>1</th>\n",
       "      <td>G927637, Cyclopentasiloxane, Dimethicone, Isod...</td>\n",
       "      <td>454</td>\n",
       "      <td>L'Oreal Paris</td>\n",
       "    </tr>\n",
       "    <tr>\n",
       "      <th>3</th>\n",
       "      <td>Raw Sunflower Seeds</td>\n",
       "      <td>175</td>\n",
       "      <td>True Elements</td>\n",
       "    </tr>\n",
       "    <tr>\n",
       "      <th>6</th>\n",
       "      <td>Aqua, Glycerin, Dicaprylyl Ether, Alcohol Dena...</td>\n",
       "      <td>260</td>\n",
       "      <td>Nivea</td>\n",
       "    </tr>\n",
       "    <tr>\n",
       "      <th>7</th>\n",
       "      <td>Key Ingredients:Activated Charcoal (Coconut Sh...</td>\n",
       "      <td>140</td>\n",
       "      <td>Lotus Herbals</td>\n",
       "    </tr>\n",
       "    <tr>\n",
       "      <th>11</th>\n",
       "      <td>Formulated without parabens, sodium lauryl sul...</td>\n",
       "      <td>2090</td>\n",
       "      <td>Smashbox</td>\n",
       "    </tr>\n",
       "    <tr>\n",
       "      <th>...</th>\n",
       "      <td>...</td>\n",
       "      <td>...</td>\n",
       "      <td>...</td>\n",
       "    </tr>\n",
       "    <tr>\n",
       "      <th>598</th>\n",
       "      <td>Aqua/Water, Sodium Laureth Sulfate, Sodium Lau...</td>\n",
       "      <td>205</td>\n",
       "      <td>Matrix</td>\n",
       "    </tr>\n",
       "    <tr>\n",
       "      <th>600</th>\n",
       "      <td>Cocoa Butter, Avocado oil, Shea</td>\n",
       "      <td>399</td>\n",
       "      <td>VLCC</td>\n",
       "    </tr>\n",
       "    <tr>\n",
       "      <th>601</th>\n",
       "      <td>Active Ingredients: Octinoxate 3%Inactive Ingr...</td>\n",
       "      <td>1200</td>\n",
       "      <td>Physicians Formula</td>\n",
       "    </tr>\n",
       "    <tr>\n",
       "      <th>603</th>\n",
       "      <td>Aloe Vera, Chamomile ext., Carrot ext., Liquor...</td>\n",
       "      <td>274</td>\n",
       "      <td>Jovees</td>\n",
       "    </tr>\n",
       "    <tr>\n",
       "      <th>607</th>\n",
       "      <td>Creatine</td>\n",
       "      <td>389</td>\n",
       "      <td>As-It-Is Nutrition</td>\n",
       "    </tr>\n",
       "  </tbody>\n",
       "</table>\n",
       "<p>309 rows × 3 columns</p>\n",
       "</div>"
      ],
      "text/plain": [
       "                                      Product Contents  Product Price  \\\n",
       "1    G927637, Cyclopentasiloxane, Dimethicone, Isod...            454   \n",
       "3                                  Raw Sunflower Seeds            175   \n",
       "6    Aqua, Glycerin, Dicaprylyl Ether, Alcohol Dena...            260   \n",
       "7    Key Ingredients:Activated Charcoal (Coconut Sh...            140   \n",
       "11   Formulated without parabens, sodium lauryl sul...           2090   \n",
       "..                                                 ...            ...   \n",
       "598  Aqua/Water, Sodium Laureth Sulfate, Sodium Lau...            205   \n",
       "600                    Cocoa Butter, Avocado oil, Shea            399   \n",
       "601  Active Ingredients: Octinoxate 3%Inactive Ingr...           1200   \n",
       "603  Aloe Vera, Chamomile ext., Carrot ext., Liquor...            274   \n",
       "607                                           Creatine            389   \n",
       "\n",
       "          Product Brand  \n",
       "1         L'Oreal Paris  \n",
       "3         True Elements  \n",
       "6                 Nivea  \n",
       "7         Lotus Herbals  \n",
       "11             Smashbox  \n",
       "..                  ...  \n",
       "598              Matrix  \n",
       "600                VLCC  \n",
       "601  Physicians Formula  \n",
       "603              Jovees  \n",
       "607  As-It-Is Nutrition  \n",
       "\n",
       "[309 rows x 3 columns]"
      ]
     },
     "execution_count": 48,
     "metadata": {},
     "output_type": "execute_result"
    }
   ],
   "source": [
    "# droppig unwanted columns\n",
    "df = nykaa_df[['Product Contents', 'Product Price', 'Product Brand']]\n",
    "df.dropna(inplace=True)\n",
    "df"
   ]
  },
  {
   "cell_type": "code",
   "execution_count": 49,
   "metadata": {},
   "outputs": [],
   "source": [
    "# gathering items\n",
    "a=[]\n",
    "for row in df.itertuples():\n",
    "    words=row[1].split(\",\")\n",
    "    a.append(words)\n",
    "\n",
    "b=[]\n",
    "for w in a:\n",
    "    for item in w:\n",
    "        # appending the items to a\n",
    "        b.append(item)"
   ]
  },
  {
   "cell_type": "code",
   "execution_count": 51,
   "metadata": {},
   "outputs": [
    {
     "data": {
      "text/html": [
       "<div>\n",
       "<style scoped>\n",
       "    .dataframe tbody tr th:only-of-type {\n",
       "        vertical-align: middle;\n",
       "    }\n",
       "\n",
       "    .dataframe tbody tr th {\n",
       "        vertical-align: top;\n",
       "    }\n",
       "\n",
       "    .dataframe thead th {\n",
       "        text-align: right;\n",
       "    }\n",
       "</style>\n",
       "<table border=\"1\" class=\"dataframe\">\n",
       "  <thead>\n",
       "    <tr style=\"text-align: right;\">\n",
       "      <th></th>\n",
       "      <th>Component</th>\n",
       "      <th>Quantity</th>\n",
       "    </tr>\n",
       "  </thead>\n",
       "  <tbody>\n",
       "    <tr>\n",
       "      <th>26</th>\n",
       "      <td>Phenoxyethanol</td>\n",
       "      <td>56</td>\n",
       "    </tr>\n",
       "    <tr>\n",
       "      <th>2</th>\n",
       "      <td>Dimethicone</td>\n",
       "      <td>51</td>\n",
       "    </tr>\n",
       "    <tr>\n",
       "      <th>15</th>\n",
       "      <td>Glycerin</td>\n",
       "      <td>51</td>\n",
       "    </tr>\n",
       "    <tr>\n",
       "      <th>84</th>\n",
       "      <td>Caprylyl Glycol</td>\n",
       "      <td>45</td>\n",
       "    </tr>\n",
       "    <tr>\n",
       "      <th>198</th>\n",
       "      <td>Tocopherol</td>\n",
       "      <td>38</td>\n",
       "    </tr>\n",
       "    <tr>\n",
       "      <th>...</th>\n",
       "      <td>...</td>\n",
       "      <td>...</td>\n",
       "    </tr>\n",
       "    <tr>\n",
       "      <th>1122</th>\n",
       "      <td>Pink Himalayan Salt</td>\n",
       "      <td>1</td>\n",
       "    </tr>\n",
       "    <tr>\n",
       "      <th>1121</th>\n",
       "      <td>Stevia Extract (Herbal Sweetener)</td>\n",
       "      <td>1</td>\n",
       "    </tr>\n",
       "    <tr>\n",
       "      <th>1120</th>\n",
       "      <td>Natural Vanilla Flavour</td>\n",
       "      <td>1</td>\n",
       "    </tr>\n",
       "    <tr>\n",
       "      <th>1119</th>\n",
       "      <td>Papain)</td>\n",
       "      <td>1</td>\n",
       "    </tr>\n",
       "    <tr>\n",
       "      <th>2483</th>\n",
       "      <td>Sandal ext.</td>\n",
       "      <td>1</td>\n",
       "    </tr>\n",
       "  </tbody>\n",
       "</table>\n",
       "<p>2484 rows × 2 columns</p>\n",
       "</div>"
      ],
      "text/plain": [
       "                               Component  Quantity\n",
       "26                        Phenoxyethanol        56\n",
       "2                            Dimethicone        51\n",
       "15                              Glycerin        51\n",
       "84                       Caprylyl Glycol        45\n",
       "198                           Tocopherol        38\n",
       "...                                  ...       ...\n",
       "1122                 Pink Himalayan Salt         1\n",
       "1121   Stevia Extract (Herbal Sweetener)         1\n",
       "1120             Natural Vanilla Flavour         1\n",
       "1119                             Papain)         1\n",
       "2483                         Sandal ext.         1\n",
       "\n",
       "[2484 rows x 2 columns]"
      ]
     },
     "execution_count": 51,
     "metadata": {},
     "output_type": "execute_result"
    }
   ],
   "source": [
    "# Importing counter library\n",
    "from collections import Counter\n",
    "c = Counter(b)\n",
    "component = [];quantity = []\n",
    "# Iterations\n",
    "for k in c:\n",
    "    component.append(k)\n",
    "    quantity.append(c.get(k))\n",
    "nykaa_components = pd.DataFrame({\n",
    "    'Component':component,\n",
    "    'Quantity':quantity\n",
    "})\n",
    "\n",
    "# sorting the components\n",
    "nykaa_components.sort_values(by = 'Quantity', ascending = False, inplace = True)\n",
    "# printing the values\n",
    "nykaa_components"
   ]
  },
  {
   "cell_type": "code",
   "execution_count": 53,
   "metadata": {
    "scrolled": true
   },
   "outputs": [
    {
     "data": {
      "text/plain": [
       "Text(0.5, 1.0, 'Highest available component in Nykaa products')"
      ]
     },
     "execution_count": 53,
     "metadata": {},
     "output_type": "execute_result"
    },
    {
     "data": {
      "image/png": "[encoded data removed]",
      "text/plain": [
       "<Figure size 1080x720 with 1 Axes>"
      ]
     },
     "metadata": {},
     "output_type": "display_data"
    }
   ],
   "source": [
    "# Plotting Highest available component in Nykaa products\n",
    "sns.set(rc={'figure.figsize':(15,10)})\n",
    "# Clearing background theme\n",
    "sns.set_theme(style = \"white\", palette = 'Wistia')\n",
    "ax = sns.barplot(data = nykaa_components[:10], y = 'Component',x='Quantity')\n",
    "# Styling\n",
    "ax.set_title('Highest available component in Nykaa products')"
   ]
  },
  {
   "cell_type": "markdown",
   "metadata": {},
   "source": [
    "Highest available component in Nykaa products is Phenoxyethanol which is used for synthetic preservative with concentration 1% and it has global approval. "
   ]
  },
  {
   "cell_type": "markdown",
   "metadata": {},
   "source": [
    "# <b> Conclusion and Recommendations</b>\n"
   ]
  },
  {
   "cell_type": "markdown",
   "metadata": {},
   "source": [
    "After performing EDA Nykaa products have higher quality and selling popular brands. The ratings got from customers are good but very less people given five star rating which means Nykaa has to improve the quality of the products. Nykaa should consider the feedback from customer and assign it to the team for further analysis so that they can find their issues in the products and can improve them. Nykaa fashion selling top brands in India which makes the sales growth better. E-commerce industry concentration on attracting customers which can e done through many ways and Nykaa also following a way for attracting customers through maintain their site more interactive. It compares with other beauty markets and selling specified user friendly protected products. The components used in the items also very safe which made Nykaa best online shopping system.\n",
    "\n",
    "As per the research Nykaa is small Business compared to Amazon and Flipcart. Nykaa is specially concentrating on women beauty products more than men, if it increases men beauty products also the sales would increase more along with demand. Nykaa should think about the global expansion quickly so that it will become top 10 E-commerce site globally. Since there is less data in this dataset, the author was unable to identify every feature. To better estimate future sales, machine learning can be used.  \n"
   ]
  },
  {
   "cell_type": "code",
   "execution_count": null,
   "metadata": {},
   "outputs": [],
   "source": []
  }
 ],
 "metadata": {
  "colab": {
   "provenance": []
  },
  "kernelspec": {
   "display_name": "Python 3 (ipykernel)",
   "language": "python",
   "name": "python3"
  },
  "language_info": {
   "codemirror_mode": {
    "name": "ipython",
    "version": 3
   },
   "file_extension": ".py",
   "mimetype": "text/x-python",
   "name": "python",
   "nbconvert_exporter": "python",
   "pygments_lexer": "ipython3",
   "version": "3.9.13"
  }
 },
 "nbformat": 4,
 "nbformat_minor": 1
}
